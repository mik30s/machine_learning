{
 "cells": [
  {
   "cell_type": "code",
   "execution_count": 1,
   "metadata": {},
   "outputs": [
    {
     "name": "stdout",
     "output_type": "stream",
     "text": [
      "Cluster memberships:\n",
      "[1 0 0 0 2 2 2 0 1 1 0 0 2 1 2 2 2 1 0 0 2 0 2 1 0 2 2 1 1 2 1 1 2 1 0 2 0\n",
      " 0 0 2 2 0 1 0 0 2 1 1 1 1 0 2 2 2 1 2 0 0 1 1 0 2 2 0 0 2 1 2 1 0 0 0 2 1\n",
      " 1 0 2 2 1 0 1 0 0 2 1 1 1 1 0 1 2 1 1 0 0 2 2 1 2 1]\n",
      "True\n"
     ]
    }
   ],
   "source": [
    "import mglearn\n",
    "import numpy as np\n",
    "\n",
    "from sklearn.datasets import make_blobs\n",
    "from sklearn.cluster import KMeans\n",
    "\n",
    "x, y = make_blobs(random_state=1)\n",
    "\n",
    "kmeans = KMeans(n_clusters=3)\n",
    "kmeans.fit(x)\n",
    "print(\"Cluster memberships:\\n{}\".format(kmeans.labels_))\n",
    "print(np.all(np.array(kmeans.predict(x)) == np.array(kmeans.labels_)))\n",
    "a = [[42,-42,42],[-1,1,42]]\n",
    "b = [-1,1,42]\n"
   ]
  },
  {
   "cell_type": "markdown",
   "metadata": {},
   "source": [
    "## Kmeans Implementation"
   ]
  },
  {
   "cell_type": "code",
   "execution_count": null,
   "metadata": {},
   "outputs": [],
   "source": []
  },
  {
   "cell_type": "code",
   "execution_count": 9,
   "metadata": {},
   "outputs": [
    {
     "name": "stdout",
     "output_type": "stream",
     "text": [
      "30\n",
      "Initial centroids [508.8333333333333, 1526.5, 2544.1666666666665]\n"
     ]
    }
   ],
   "source": [
    "from matplotlib import pyplot as plt\n",
    "\n",
    "points1 = [0,108,279,312,476,556,594,618,678,702]\n",
    "points2 = [818,962,1136,1479,1747,1925,2064,2100,2164,2315]\n",
    "points3 = [2359,2415,2516,2606,2671,2747,2887,2970,3014,3053]\n",
    "points = points1 + points2 + points3\n",
    "\n",
    "n = len(points) # nr. of points\n",
    "k = 3 # nr. of clusters\n",
    "print(n)\n"
   ]
  },
  {
   "cell_type": "markdown",
   "metadata": {},
   "source": [
    "Finding centroids by sorting"
   ]
  },
  {
   "cell_type": "code",
   "execution_count": 10,
   "metadata": {},
   "outputs": [
    {
     "name": "stdout",
     "output_type": "stream",
     "text": [
      "Initial centroids [508.8333333333333, 1526.5, 2544.1666666666665]\n"
     ]
    }
   ],
   "source": [
    "# take the first and last and divide into \n",
    "interval = (points[-1] + points[0])/float(k)\n",
    "centroids = []\n",
    "for i in range(k):\n",
    "    centroids.append(points[0] + i*interval + interval/2)\n",
    "print('Initial centroids {}'.format(centroids))"
   ]
  },
  {
   "cell_type": "markdown",
   "metadata": {},
   "source": [
    "Finding centroids randomly"
   ]
  },
  {
   "cell_type": "code",
   "execution_count": 14,
   "metadata": {},
   "outputs": [
    {
     "name": "stdout",
     "output_type": "stream",
     "text": [
      "Initial centroids: [76.35783569480216, 839.6645089809211, 1952.1700156919192]\n"
     ]
    }
   ],
   "source": [
    "import random\n",
    "\n",
    "centroids = []\n",
    "random.seed(42)\n",
    "for i in range(k):\n",
    "    centroids.append(random.uniform(points[0], points[-1]))\n",
    "centroids.sort()\n",
    "print('Initial centroids:', centroids)"
   ]
  },
  {
   "cell_type": "markdown",
   "metadata": {},
   "source": [
    "Finding center of mass."
   ]
  },
  {
   "cell_type": "code",
   "execution_count": 23,
   "metadata": {},
   "outputs": [
    {
     "name": "stdout",
     "output_type": "stream",
     "text": [
      "Closest centroid: [0, 0, 0, 0, 1, 1, 1, 1, 1, 1, 1, 1, 1, 1, 2, 2, 2, 2, 2, 2, 2, 2, 2, 2, 2, 2, 2, 2, 2, 2]\n",
      "New centroids:  [174.75, 801.9, 2472.0625]\n"
     ]
    }
   ],
   "source": [
    "closest = [0]*n\n",
    "\n",
    "'''Start kmeans iteration'''\n",
    "for i in range(n):\n",
    "    distances = []\n",
    "    for j in range(k):\n",
    "        distances.append(abs(points[i] - centroids[j]))\n",
    "    closest[i] = distances.index(min(distances))\n",
    "print('Closest centroid:', closest)\n",
    "\n",
    "'''Find new centroids for each of k sets of points'''\n",
    "summation = [0]*k\n",
    "counter = [0]*k\n",
    "\n",
    "for i in range(n):\n",
    "    summation[closest[i]] += points[i]\n",
    "    counter[closest[i]] += 1\n",
    "\n",
    "for j in range(k):\n",
    "    if counter[j] == 0: print('Error - empty set')\n",
    "    else: centroids[j] = summation[j]/float(counter[j])\n",
    "print('New centroids: ', centroids)"
   ]
  },
  {
   "cell_type": "markdown",
   "metadata": {},
   "source": [
    "Visualization"
   ]
  },
  {
   "cell_type": "code",
   "execution_count": 29,
   "metadata": {},
   "outputs": [
    {
     "data": {
      "image/png": "[encoded data removed]",
      "text/plain": [
       "<matplotlib.figure.Figure at 0x7f367e50e630>"
      ]
     },
     "metadata": {},
     "output_type": "display_data"
    }
   ],
   "source": [
    "import matplotlib.pyplot as plt\n",
    "\n",
    "plt.figure(figsize=(14,1))\n",
    "plt.ylim(-1, 1)\n",
    "plt.xlim(0, points[-1])\n",
    "plt.plot(points, [0]*n, 'o')\n",
    "plt.show()"
   ]
  },
  {
   "cell_type": "code",
   "execution_count": null,
   "metadata": {},
   "outputs": [
    {
     "name": "stdout",
     "output_type": "stream",
     "text": [
      "\n",
      " 30 Data points:  [0, 108, 279, 312, 476, 556, 594, 618, 678, 702, 818, 962, 1136, 1479, 1747, 1925, 2064, 2100, 2164, 2315, 2359, 2415, 2516, 2606, 2671, 2747, 2887, 2970, 3014, 3053]\n",
      "Initial centroids: [1074.1866190425258, 1313.3586090077692, 1385.05714653897]\n",
      "ERROR - Empty set!\n",
      "  Final centroids: [838.1111111111111, 235.0, 2472.0625]\n"
     ]
    },
    {
     "data": {
      "image/png": "[encoded data removed]",
      "text/plain": [
       "<matplotlib.figure.Figure at 0x7fc00ffbbe80>"
      ]
     },
     "metadata": {},
     "output_type": "display_data"
    }
   ],
   "source": [
    "import random\n",
    "from matplotlib import pyplot as pp\n",
    "\n",
    "points1 = [0,108,279,312,476,556,594,618,678,702]\n",
    "points2 = [818,962,1136,1479,1747,1925,2064,2100,2164,2315]\n",
    "points3 = [2359,2415,2516,2606,2671,2747,2887,2970,3014,3053]\n",
    "points = points1 + points2 + points3\n",
    "n = len(points)     #nr. of points\n",
    "print('\\n', n, 'Data points: ', points)\n",
    "print\n",
    "k = 3               #nr. of clusters\n",
    "\n",
    "def D_sqr(centers, poin, closests):\n",
    "    k = len(centers)\n",
    "    n = len(poin)\n",
    "    s = 0.0\n",
    "    for i in range(k):\n",
    "        for j in range(n):\n",
    "            if i == closests[j]:\n",
    "                s += (center[i] - poin[j])**2\n",
    "    return s\n",
    "\n",
    "interval = (points[-1] + points[0])/float(k)\n",
    "centroids = []\n",
    "'''for i in range(k):  #calculate the midpoint of each interval\n",
    "    centroids.append(points[0] + i*interval + interval/2)'''\n",
    "centroids = []\n",
    "random.seed(47)     #for repeatability\n",
    "for i in range(k):  \n",
    "    centroids.append(random.uniform(points[0], points[-1]))\n",
    "centroids.sort()\n",
    "print('Initial centroids:', centroids)\n",
    "\n",
    "closest       = [0]*n     #list of n zeros\n",
    "new_centroids = [0]*k\n",
    "change = 1.0\n",
    "\n",
    "while change > 1e-4:    #main loop of K-means iteration\n",
    "    #for each point, find which centroid is closest\n",
    "    for i in range(n):\n",
    "        distances = []\n",
    "        for j in range(k):\n",
    "            distances.append(abs(points[i]-centroids[j]))\n",
    "        closest[i] = distances.index(min(distances))    #index where min occurs\n",
    "    #print ' Closest centroid:', closest\n",
    "    #find new centroids for each of k sets of points\n",
    "    summation  = [0]*k\n",
    "    counter    = [0]*k\n",
    "    difference = [0]*k\n",
    "    for i in range(n):\n",
    "        summation[closest[i]] += points[i]\n",
    "        counter[closest[i]] += 1\n",
    "    for j in range(k):\n",
    "        if counter[j] == 0:\n",
    "            print('ERROR - Empty set!')\n",
    "            exit(0)\n",
    "        else:\n",
    "            new_centroids[j] = summation[j]/float(counter[j])\n",
    "            difference[j] = abs(new_centroids[j] - centroids[j])\n",
    "    change = sum(difference)\n",
    "    #print change\n",
    "    #print '    New centroids:', centroids\n",
    "    centroids = new_centroids[:]\n",
    "#end of K-means iterations\n",
    "print('  Final centroids:', centroids)    \n",
    "\n",
    "#for each point, find which of the  final centroids is closest\n",
    "for i in range(n):\n",
    "    distances = []\n",
    "    for j in range(k):\n",
    "        distances.append(abs(points[i]-centroids[j]))\n",
    "    closest[i] = distances.index(min(distances))    #index where min occurs\n",
    "#print ' Closest centroid:', closest  \n",
    "\n",
    "colors = []\n",
    "for i in range(n):\n",
    "    if closest[i] == 0:\n",
    "        colors.append('r')\n",
    "    elif closest[i] == 1:\n",
    "        colors.append('g')\n",
    "    elif closest[i] == 2:\n",
    "        colors.append('b')\n",
    "    elif closest[i] == 3:\n",
    "        colors.append('y')\n",
    "    elif closest[i] == 4:\n",
    "        colors.append('brown')\n",
    "    else:\n",
    "        print('Invalid color - extend the list of colors!!')\n",
    "\n",
    "pp.figure(figsize=(14, 1))   \n",
    "pp.scatter(points   , [0]*len(points)   , c=colors, s=200, alpha=0.7)\n",
    "pp.scatter(points   , [0]*len(points)   , c=colors, s=20, alpha=1)\n",
    "pp.scatter(centroids, [0]*len(centroids), c=['r','g','b','y','brown'],\n",
    "           s=1000, marker='|')\n",
    "pp.ylim(-1, 1)\n",
    "pp.xlim(0-10, points[-1]+10)\n",
    "\n",
    "pp.show()\n",
    "\n",
    "\n",
    "\n"
   ]
  },
  {
   "cell_type": "markdown",
   "metadata": {},
   "source": [
    "### Modified KMeans"
   ]
  },
  {
   "cell_type": "code",
   "execution_count": 6,
   "metadata": {},
   "outputs": [
    {
     "name": "stdout",
     "output_type": "stream",
     "text": [
      "\n",
      " 30 Data points:  [   0  108  279  312  476  556  594  618  678  702  818  962 1136 1479 1747\n",
      " 1925 2064 2100 2164 2315 2359 2415 2516 2606 2671 2747 2887 2970 3014 3053]\n",
      "\n",
      "  Final centroids: [235.0, 2472.0625, 838.11111111111109]\n"
     ]
    },
    {
     "data": {
      "image/png": "[encoded data removed]",
      "text/plain": [
       "<matplotlib.figure.Figure at 0x7f29dfa1ce48>"
      ]
     },
     "metadata": {},
     "output_type": "display_data"
    }
   ],
   "source": [
    "import random\n",
    "import numpy as np\n",
    "from matplotlib import pyplot as pp\n",
    "\n",
    "points1 = [0,108,279,312,476,556,594,618,678,702]\n",
    "points2 = [818,962,1136,1479,1747,1925,2064,2100,2164,2315]\n",
    "points3 = [2359,2415,2516,2606,2671,2747,2887,2970,3014,3053]\n",
    "arr_points = np.array(points1 + points2 + points3)\n",
    "n = len(arr_points)     #nr. of points\n",
    "print('\\n', n, 'Data points: ', arr_points)\n",
    "print()\n",
    "k = 3               #nr. of clusters\n",
    "\n",
    "def D_sqr(cent, poin, clos):\n",
    "    k = len(cent)\n",
    "    n = len(poin)\n",
    "    s = 0.0\n",
    "    for i in range(k):  #for each center\n",
    "        for j in range(n):\n",
    "            if i == clos[j]:\n",
    "                s += (cent[i]-poin[j])**2\n",
    "    return s   \n",
    "\n",
    "interval = (points[-1] + points[0])/float(k)\n",
    "centroids = []\n",
    "'''for i in range(k):  #calculate the midpoint of each interval\n",
    "    centroids.append(points[0] + i*interval + interval/2)'''\n",
    "centroids = []\n",
    "random.seed(49)     #for repeatability\n",
    "for i in range(k):  \n",
    "    centroids.append(random.uniform(points[0], points[-1]))\n",
    "#centroids.sort()\n",
    "#print('Initial centroids:', centroids)\n",
    "\n",
    "closest       = np.zeros_like(arr_points, dtype='int16')    #list of n zeros\n",
    "new_centroids = [0]*k\n",
    "change = 1.0\n",
    "\n",
    "while change > 1e-4:    #main loop of K-means iteration\n",
    "    #for each point, find which centroid is closest\n",
    "    for i in range(n):\n",
    "        distances = []\n",
    "        for j in range(k):\n",
    "            distances.append(abs(points[i]-centroids[j]))\n",
    "        closest[i] = distances.index(min(distances))    #index where min occurs\n",
    "    #print ' Closest centroid:', closest\n",
    "    #find new centroids for each of k sets of points\n",
    "    summation  = [0]*k\n",
    "    counter    = [0]*k\n",
    "    difference = [0]*k\n",
    "    for i in range(n):\n",
    "        summation[closest[i]] += arr_points[i]\n",
    "        counter[closest[i]] += 1\n",
    "    for j in range(k):\n",
    "        if counter[j] == 0:\n",
    "            print('ERROR - Empty set!')\n",
    "            exit(0)\n",
    "        new_centroids[j] = summation[j]/float(counter[j])\n",
    "        difference[j] = abs(new_centroids[j] - centroids[j])\n",
    "    change = sum(difference)\n",
    "    #print change\n",
    "    #print '    New centroids:', centroids\n",
    "    centroids = new_centroids[:]\n",
    "#end of K-means iterations\n",
    "print('  Final centroids:', centroids)   \n",
    "\n",
    "#for each point, find which of the  final centroids is closest\n",
    "for i in range(n):\n",
    "    distances = []\n",
    "    for j in range(k):\n",
    "        distances.append(abs(arr_points[i]-centroids[j]))\n",
    "    closest[i] = distances.index(min(distances))    #index where min occurs\n",
    "#print ' Closest centroid:', closest  \n",
    "\n",
    "colors = []\n",
    "for i in range(n):\n",
    "    if closest[i] == 0:\n",
    "        colors.append('r')\n",
    "    elif closest[i] == 1:\n",
    "        colors.append('g')\n",
    "    elif closest[i] == 2:\n",
    "        colors.append('b')\n",
    "    elif closest[i] == 3:\n",
    "        colors.append('y')\n",
    "    elif closest[i] == 4:\n",
    "        colors.append('brown')\n",
    "    else:\n",
    "        print('Invalid color - extend the list of colors!!')\n",
    "\n",
    "pp.figure(figsize=(8, 1))   \n",
    "pp.scatter(arr_points   , [0]*len(arr_points)   , c=colors, s=200, alpha=0.7)\n",
    "pp.scatter(arr_points   , [0]*len(arr_points)   , c=colors, s=20, alpha=1)\n",
    "pp.scatter(centroids, [0]*len(centroids), c=['r','g','b','y','brown'],\n",
    "           s=1000, marker='|')\n",
    "pp.ylim(-1, 1)\n",
    "pp.xlim(0-10, points[-1]+10)\n",
    "\n",
    "pp.show()\n",
    "\n",
    "\n",
    "\n"
   ]
  },
  {
   "cell_type": "markdown",
   "metadata": {},
   "source": [
    "### 2d Kmeans"
   ]
  },
  {
   "cell_type": "code",
   "execution_count": 3,
   "metadata": {},
   "outputs": [
    {
     "name": "stdout",
     "output_type": "stream",
     "text": [
      "[    0.   108.   279.   312.   476.   556.   594.   618.   678.   702.\n",
      "   818.   962.  1136.  1479.  1747.  1925.  2064.  2100.  2164.  2315.\n",
      "  2359.  2415.  2516.  2606.  2671.  2747.  2887.  2970.  3014.  3053.]\n",
      "(30,)\n"
     ]
    }
   ],
   "source": [
    "import random\n",
    "import numpy as np\n",
    "from matplotlib import pyplot as pp\n",
    "\n",
    "with open('kmeans.txt','r') as f:\n",
    "    li = f.readlines()\n",
    "    \n",
    "a = np.array(list(map(float,li[0].split(','))))\n",
    "for i in range(1,len(li)):\n",
    "    temp = li[i].split(',')\n",
    "    try:\n",
    "        b = np.array(list(map(float,temp)))\n",
    "        a = np.hstack((a,b))\n",
    "    except ValueError:\n",
    "        print('Conversion Error!')\n",
    "\n",
    "print(a)\n",
    "print(a.shape)\n",
    "\n"
   ]
  },
  {
   "cell_type": "code",
   "execution_count": null,
   "metadata": {},
   "outputs": [],
   "source": []
  }
 ],
 "metadata": {
  "kernelspec": {
   "display_name": "Python 3",
   "language": "python",
   "name": "python3"
  },
  "language_info": {
   "codemirror_mode": {
    "name": "ipython",
    "version": 3
   },
   "file_extension": ".py",
   "mimetype": "text/x-python",
   "name": "python",
   "nbconvert_exporter": "python",
   "pygments_lexer": "ipython3",
   "version": "3.6.3"
  }
 },
 "nbformat": 4,
 "nbformat_minor": 2
}
