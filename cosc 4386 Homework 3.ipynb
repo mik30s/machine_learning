{
 "cells": [
  {
   "cell_type": "markdown",
   "metadata": {},
   "source": [
    "### Question 1"
   ]
  },
  {
   "cell_type": "code",
   "execution_count": 2,
   "metadata": {},
   "outputs": [
    {
     "name": "stdout",
     "output_type": "stream",
     "text": [
      "Train score: 1.00\n",
      "Test score: 0.96\n",
      "Depth: 4\n",
      "Most important feature is flavanoids\n"
     ]
    }
   ],
   "source": [
    "from sklearn.tree import DecisionTreeClassifier as DTC\n",
    "from sklearn.datasets import load_wine\n",
    "from sklearn.model_selection import train_test_split\n",
    "\n",
    "wine = load_wine()\n",
    "\n",
    "Xtrain, Xtest, yTrain, yTest =\\\n",
    "train_test_split(wine.data, wine.target,\\\n",
    "                 train_size=0.7, test_size=0.3, random_state=42)\n",
    "\n",
    "clf = DTC()\n",
    "clf.fit(Xtrain, yTrain)\n",
    "\n",
    "print(\"Train score: {:.2f}\".format(clf.score(Xtrain, yTrain)))\n",
    "print(\"Test score: {:.2f}\".format(clf.score(Xtest, yTest)))\n",
    "print(\"Depth: {}\".format(clf.tree_.max_depth) )\n",
    "print(\"Most important feature is\", wine.feature_names[clf.feature_importances_.argmax(axis=0)])\n"
   ]
  },
  {
   "cell_type": "code",
   "execution_count": 3,
   "metadata": {},
   "outputs": [
    {
     "name": "stdout",
     "output_type": "stream",
     "text": [
      "Train score: 1.00\n",
      "Test score: 0.96\n",
      "Depth: 4\n",
      "Most important feature is flavanoids\n"
     ]
    }
   ],
   "source": [
    "clf = DTC(criterion='gini')\n",
    "clf.fit(Xtrain, yTrain)\n",
    "\n",
    "print(\"Train score: {:.2f}\".format(clf.score(Xtrain, yTrain)))\n",
    "print(\"Test score: {:.2f}\".format(clf.score(Xtest, yTest)))\n",
    "print(\"Depth: {}\".format(clf.tree_.max_depth) )\n",
    "print(\"Most important feature is\", wine.feature_names[clf.feature_importances_.argmax(axis=0)])\n"
   ]
  },
  {
   "cell_type": "code",
   "execution_count": 4,
   "metadata": {},
   "outputs": [
    {
     "name": "stdout",
     "output_type": "stream",
     "text": [
      "min split 3 test score: 0.87\n",
      "min split 4 test score: 0.83\n",
      "min split 5 test score: 0.85\n",
      "min split 6 test score: 0.85\n"
     ]
    }
   ],
   "source": [
    "for i in range(3, 7):\n",
    "    clf = DTC(criterion='entropy', min_samples_split=i)\n",
    "    clf.fit(Xtrain, yTrain)\n",
    "    print(\"min split\", i, \"test score: {:.2f}\".format(clf.score(Xtest, yTest)))"
   ]
  },
  {
   "cell_type": "markdown",
   "metadata": {},
   "source": [
    "### Question 2"
   ]
  },
  {
   "cell_type": "code",
   "execution_count": 5,
   "metadata": {},
   "outputs": [],
   "source": [
    "from sklearn.ensemble import GradientBoostingClassifier as GBC"
   ]
  },
  {
   "cell_type": "markdown",
   "metadata": {},
   "source": [
    "Gradient boosting is an additive ensemble method therefore it is sequential"
   ]
  },
  {
   "cell_type": "code",
   "execution_count": 6,
   "metadata": {},
   "outputs": [
    {
     "name": "stdout",
     "output_type": "stream",
     "text": [
      "GBC train score: 1.0\n",
      "GBC test score: 0.94\n"
     ]
    }
   ],
   "source": [
    "clf = GBC(max_depth=4, learning_rate=0.5, n_estimators=100)\n",
    "clf.fit(Xtrain, yTrain)\n",
    "print(\"GBC train score: {:.2}\".format(clf.score(Xtrain, yTrain)))\n",
    "print(\"GBC test score: {:.2}\".format(clf.score(Xtest, yTest)))"
   ]
  },
  {
   "cell_type": "markdown",
   "metadata": {},
   "source": [
    "No there is no improvement"
   ]
  },
  {
   "cell_type": "code",
   "execution_count": 7,
   "metadata": {},
   "outputs": [
    {
     "name": "stdout",
     "output_type": "stream",
     "text": [
      "GBC train score: 1.0\n",
      "GBC test score: 0.94\n"
     ]
    }
   ],
   "source": [
    "clf = GBC(max_depth=4, learning_rate=0.5, n_estimators=200)\n",
    "clf.fit(Xtrain, yTrain)\n",
    "print(\"GBC train score: {:.2}\".format(clf.score(Xtrain, yTrain)))\n",
    "print(\"GBC test score: {:.2}\".format(clf.score(Xtest, yTest)))"
   ]
  },
  {
   "cell_type": "code",
   "execution_count": 8,
   "metadata": {},
   "outputs": [
    {
     "name": "stdout",
     "output_type": "stream",
     "text": [
      "GBC test score: 1.0\n",
      "GBC test score: 0.9815\n",
      "GBC test score: 1.0\n",
      "GBC test score: 1.0\n",
      "GBC test score: 0.963\n",
      "GBC test score: 1.0\n",
      "GBC test score: 1.0\n",
      "GBC test score: 0.963\n",
      "GBC test score: 0.963\n",
      "GBC test score: 0.963\n",
      "GBC test score: 0.963\n",
      "GBC test score: 0.963\n"
     ]
    }
   ],
   "source": [
    "for i in range(2, len(wine.feature_names)+1):\n",
    "    clf = GBC(max_features=i, learning_rate=0.5, n_estimators=100)\n",
    "    clf.fit(Xtrain, yTrain)\n",
    "    print(\"GBC test score: {:.4}\".format(clf.score(Xtest, yTest)))"
   ]
  },
  {
   "cell_type": "markdown",
   "metadata": {},
   "source": [
    "### Question 3"
   ]
  },
  {
   "cell_type": "code",
   "execution_count": 16,
   "metadata": {},
   "outputs": [
    {
     "name": "stdout",
     "output_type": "stream",
     "text": [
      "(178, 2)\n",
      "0.83064516129\n",
      "0.796296296296\n"
     ]
    },
    {
     "data": {
      "image/png": "[encoded data removed]",
      "text/plain": [
       "<matplotlib.figure.Figure at 0x7f84313a6e48>"
      ]
     },
     "metadata": {},
     "output_type": "display_data"
    },
    {
     "name": "stdout",
     "output_type": "stream",
     "text": [
      "0.78\n",
      "0.74\n"
     ]
    }
   ],
   "source": [
    "import numpy as np\n",
    "import mglearn \n",
    "from sklearn.svm import SVC\n",
    "import matplotlib.pyplot as plt\n",
    "\n",
    "fpos = 0\n",
    "ppos = 0\n",
    "for i,e in enumerate(wine.feature_names):\n",
    "    if e == \"flavanoids\": fpos = i\n",
    "    elif e == \"proanthocyanins\": ppos = i\n",
    "    \n",
    "X = np.transpose(np.vstack((wine.data[:,fpos],wine.data[:,ppos])))\n",
    "Xtrain, Xtest, yTrain, yTest = train_test_split(X, wine.target,\\\n",
    "                 train_size=0.7, test_size=0.3, random_state=42)\n",
    "\n",
    "svm = SVC(kernel='rbf')\n",
    "svm.fit(Xtrain, yTrain)\n",
    "print(X.shape)\n",
    "print(svm.score(Xtrain, yTrain))\n",
    "print(svm.score(Xtest, yTest))\n",
    "\n",
    "from math import log10\n",
    "mglearn.plots.plot_svm(log_C=0, log_gamma=log10(1/2)) \n",
    "\n",
    "sv = svm.support_vectors_\n",
    "sv_labels = svm.dual_coef_.ravel() > 0\n",
    "plt.xlabel(\"Flavanoids\")\n",
    "plt.ylabel(\"Proanthocyanins\")\n",
    "plt.show()\n",
    "\n",
    "from sklearn.preprocessing import MinMaxScaler\n",
    "scaler = MinMaxScaler()\n",
    "scaler.fit(Xtrain)\n",
    "Xtrain_scaled = scaler.transform(Xtrain)\n",
    "Xtest_scaled = scaler.transform(Xtest)\n",
    "svm.fit(Xtrain_scaled, yTrain)\n",
    "print(\"{:.2f}\".format(svm.score(Xtrain_scaled, yTrain)))\n",
    "print(\"{:.2f}\".format(svm.score(Xtest_scaled, yTest)))\n",
    "\n"
   ]
  },
  {
   "cell_type": "code",
   "execution_count": null,
   "metadata": {},
   "outputs": [],
   "source": []
  },
  {
   "cell_type": "code",
   "execution_count": null,
   "metadata": {},
   "outputs": [],
   "source": []
  }
 ],
 "metadata": {
  "kernelspec": {
   "display_name": "Python 3",
   "language": "python",
   "name": "python3"
  },
  "language_info": {
   "codemirror_mode": {
    "name": "ipython",
    "version": 3
   },
   "file_extension": ".py",
   "mimetype": "text/x-python",
   "name": "python",
   "nbconvert_exporter": "python",
   "pygments_lexer": "ipython3",
   "version": "3.6.3"
  }
 },
 "nbformat": 4,
 "nbformat_minor": 2
}
