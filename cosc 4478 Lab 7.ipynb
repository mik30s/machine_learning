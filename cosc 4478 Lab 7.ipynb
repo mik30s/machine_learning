{
 "cells": [
  {
   "cell_type": "markdown",
   "metadata": {},
   "source": [
    "## Name: Michael Osei\n",
    "***"
   ]
  },
  {
   "cell_type": "markdown",
   "metadata": {},
   "source": [
    "### Question 1"
   ]
  },
  {
   "cell_type": "code",
   "execution_count": 19,
   "metadata": {},
   "outputs": [
    {
     "name": "stdout",
     "output_type": "stream",
     "text": [
      "ababbrbacbadbabbrbaa\n"
     ]
    }
   ],
   "source": [
    "def str_insert(st,i,c):\n",
    "    return st[:i] + c + st[i:]\n",
    "\n",
    "def list_of_indices(st):\n",
    "    insertion_points = []\n",
    "    for i,e in enumerate(string):\n",
    "        if e is \"a\" or e is \"b\": insertion_points.append(i)\n",
    "    return insertion_points\n",
    "\n",
    "def stuff(st):\n",
    "    li = reversed(list_of_indices(st))\n",
    "    for i in li:\n",
    "        st = str_insert(st, i, 'b')\n",
    "    return 'a' + st + 'a'\n",
    "    \n",
    "string = input(\"Enter String: \")\n",
    "print(stuff(string))"
   ]
  },
  {
   "cell_type": "markdown",
   "metadata": {},
   "source": [
    "### Question 2"
   ]
  },
  {
   "cell_type": "code",
   "execution_count": 34,
   "metadata": {},
   "outputs": [
    {
     "name": "stdout",
     "output_type": "stream",
     "text": [
      "True\n"
     ]
    }
   ],
   "source": [
    "def destuff(st):\n",
    "    return st[1:-1].replace('bb','b').replace('ba','a')\n",
    "\n",
    "print(destuff(stuff('abracadabra')) == 'abracadabra')"
   ]
  },
  {
   "cell_type": "markdown",
   "metadata": {},
   "source": [
    "### Question 4"
   ]
  },
  {
   "cell_type": "code",
   "execution_count": 89,
   "metadata": {},
   "outputs": [
    {
     "name": "stdout",
     "output_type": "stream",
     "text": [
      "[1, 1, 0, 1]\n",
      "[0, 0, 1, 1, 0, 0, 1, 0]\n"
     ]
    }
   ],
   "source": [
    "def bin_sum(w1,w2):\n",
    "    s,c = [],0\n",
    "    for bits in reversed(list(zip(w1,w2))):\n",
    "        b = c + bits[0] + bits[1]\n",
    "        if b < 2: c = 0\n",
    "        if b == 2: c,b = 1,0\n",
    "        if b == 3: c,b = 1,1\n",
    "        s.append(b)\n",
    "    s.reverse()\n",
    "    return c,s\n",
    "    \n",
    "def ones_comp(w1,w2):\n",
    "    c, r = bin_sum(w1,w2)\n",
    "    _,r = bin_sum(r, [0] * (len(r) - 1) +[c])\n",
    "    return r\n",
    "    \n",
    "print(ones_comp([0,1,1,1],[0,1,1,0]))\n",
    "print(ones_comp([1,0,1,1,0,1,1,1],[0,1,1,1,1,0,1,0]))"
   ]
  },
  {
   "cell_type": "markdown",
   "metadata": {},
   "source": [
    "### Question 5"
   ]
  },
  {
   "cell_type": "code",
   "execution_count": 101,
   "metadata": {},
   "outputs": [
    {
     "name": "stdout",
     "output_type": "stream",
     "text": [
      "[0, 0, 1, 1, 0, 0, 1, 0]\n"
     ]
    }
   ],
   "source": [
    "from functools import reduce\n",
    "product = reduce(ones_comp, [[1,0,1,1,0,1,1,1],[0,1,1,1,1,0,1,0],[1]*8])\n",
    "print(product)"
   ]
  },
  {
   "cell_type": "code",
   "execution_count": null,
   "metadata": {},
   "outputs": [],
   "source": []
  }
 ],
 "metadata": {
  "kernelspec": {
   "display_name": "Python 3",
   "language": "python",
   "name": "python3"
  },
  "language_info": {
   "codemirror_mode": {
    "name": "ipython",
    "version": 3
   },
   "file_extension": ".py",
   "mimetype": "text/x-python",
   "name": "python",
   "nbconvert_exporter": "python",
   "pygments_lexer": "ipython3",
   "version": "3.6.3"
  }
 },
 "nbformat": 4,
 "nbformat_minor": 2
}
