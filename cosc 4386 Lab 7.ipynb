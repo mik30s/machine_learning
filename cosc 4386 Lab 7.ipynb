{
 "cells": [
  {
   "cell_type": "markdown",
   "metadata": {},
   "source": [
    "### Question 1"
   ]
  },
  {
   "cell_type": "code",
   "execution_count": 2,
   "metadata": {},
   "outputs": [],
   "source": [
    "import random\n",
    "import numpy as np\n",
    "from matplotlib import pyplot as pp\n",
    "\n",
    "def data_load(filename):\n",
    "    with open(filename,'r') as f:\n",
    "        li = f.readlines()\n",
    "\n",
    "    a = np.array(list(map(float,li[0].split(','))))\n",
    "    for i in range(1,len(li)):\n",
    "        temp = li[i].split(',')\n",
    "        try:\n",
    "            b = np.array(list(map(float,temp)))\n",
    "            a = np.hstack((a,b))\n",
    "        except ValueError:\n",
    "            print('Conversion Error!')\n",
    "    return a"
   ]
  },
  {
   "cell_type": "markdown",
   "metadata": {},
   "source": [
    "### Question 2"
   ]
  },
  {
   "cell_type": "code",
   "execution_count": 6,
   "metadata": {},
   "outputs": [],
   "source": [
    "# def D_sqr(cent, poin, clos):\n",
    "#     k = len(cent)\n",
    "#     n = len(poin)\n",
    "#     s = 0.0\n",
    "#     for i in range(k):  #for each center\n",
    "#         temp = (cent[i] - poin)**2\n",
    "#         mask = (i == clos)\n",
    "#         temp *= mask\n",
    "#         s += temp.sum()\n",
    "#     return s   \n",
    "\n",
    "def D_sqr(cent, poin, clos):\n",
    "    k = len(cent)\n",
    "    n = len(poin)\n",
    "    s = 0.0\n",
    "    for i in range(k):  #for each center\n",
    "        for j in range(n):\n",
    "            if i == clos[j]:\n",
    "                s += (cent[i]-poin[j])**2\n",
    "    return s   "
   ]
  },
  {
   "cell_type": "markdown",
   "metadata": {},
   "source": [
    "### Question 3"
   ]
  },
  {
   "cell_type": "code",
   "execution_count": 7,
   "metadata": {},
   "outputs": [
    {
     "name": "stdout",
     "output_type": "stream",
     "text": [
      "Initial centroids: [1952.1700156919192, 76.357835694802162, 839.66450898092114]\n",
      "time:  24.573792219161987\n"
     ]
    }
   ],
   "source": [
    "arr_points  = data_load('kmeans.txt')\n",
    "arr_closest = np.zeros_like(arr_points, dtype='int8')\n",
    "n = arr_points.shape[0]     #nr. of points\n",
    "k = 3               #nr. of clusters\n",
    "\n",
    "random.seed(42)     #for repeatability\n",
    "centroids = []\n",
    "for i in range(k):  \n",
    "    centroids.append(random.uniform(arr_points[0], arr_points[-1]))\n",
    "print('Initial centroids:', centroids)\n",
    "\n",
    "new_centroids = [0]*k\n",
    "change = 1.0\n",
    "\n",
    "from time import time\n",
    "start = time()\n",
    "for i in range(10000):\n",
    "    while change > 1e-4:    #main loop of K-means iteration\n",
    "        #for each point, find which centroid is closest\n",
    "        for i in range(n):\n",
    "            distances = []\n",
    "            for j in range(k):\n",
    "                distances.append(abs(arr_points[i]-centroids[j]))\n",
    "            arr_closest[i] = distances.index(min(distances))    #index where min occurs\n",
    "        #find new centroids for each of k sets of points\n",
    "        summation  = [0]*k\n",
    "        counter    = [0]*k\n",
    "        difference = [0]*k\n",
    "        for i in range(n):\n",
    "            summation[arr_closest[i]] += arr_points[i]\n",
    "            counter[arr_closest[i]] += 1\n",
    "        for j in range(k):\n",
    "            if counter[j] == 0:\n",
    "                print('ERROR - Empty set!')\n",
    "                sys.exit(0)\n",
    "            new_centroids[j] = summation[j]/float(counter[j])\n",
    "            difference[j] = abs(new_centroids[j] - centroids[j])\n",
    "        change = sum(difference)\n",
    "        #print change\n",
    "        #print '    New centroids:', centroids\n",
    "        centroids = new_centroids[:]\n",
    "    #end of K-means iterations\n",
    "    #print('  Final centroids:', centroids)   \n",
    "\n",
    "    #for each point, find which of the  final centroids is closest\n",
    "    for i in range(n):\n",
    "        distances = []\n",
    "        for j in range(k):\n",
    "            distances.append(abs(arr_points[i]-centroids[j]))\n",
    "        arr_closest[i] = distances.index(min(distances))    #index where min occurs\n",
    "    #print(' Closest centroid:', arr_closest)\n",
    "    D_sqr(centroids, arr_points, arr_closest)\n",
    "end = time() - start\n",
    "print(\"time: \",end)\n",
    "# color_dict = {0:'red', 1:'green', 2:'blue', 3:'yellow', 4:'brown'}\n",
    "# colors = [color_dict[x] for x in arr_closest] \n",
    "\n",
    "# pp.figure(figsize=(10, 1))   \n",
    "# pp.scatter(arr_points, np.zeros_like(arr_points),c=colors, s=200, alpha=0.7)\n",
    "# pp.scatter(arr_points, np.zeros_like(arr_points),c=colors, s=20, alpha=1)\n",
    "# pp.scatter(centroids, [0]*len(centroids), c=color_dict.values(),s=1000, marker='|')\n",
    "# pp.ylim(-1, 1)\n",
    "# pp.xlim(0-10, arr_points[n-1]+10)\n",
    "\n",
    "# for i in range(k):\n",
    "#     pp.annotate(str(centroids[i]), xy=(centroids[i], 0.7),\n",
    "#                 xytext = (centroids[i]+50, 1.3),\n",
    "#                 arrowprops=dict(facecolor='black', width = 1,\n",
    "#                                 headwidth = 6, headlength = 5))\n",
    "# pp.show()\n",
    "\n",
    "\n",
    "\n"
   ]
  },
  {
   "cell_type": "code",
   "execution_count": null,
   "metadata": {},
   "outputs": [],
   "source": []
  }
 ],
 "metadata": {
  "kernelspec": {
   "display_name": "Python 3",
   "language": "python",
   "name": "python3"
  },
  "language_info": {
   "codemirror_mode": {
    "name": "ipython",
    "version": 3
   },
   "file_extension": ".py",
   "mimetype": "text/x-python",
   "name": "python",
   "nbconvert_exporter": "python",
   "pygments_lexer": "ipython3",
   "version": "3.6.3"
  }
 },
 "nbformat": 4,
 "nbformat_minor": 2
}
