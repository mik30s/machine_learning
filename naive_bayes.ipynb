{
 "cells": [
  {
   "cell_type": "markdown",
   "metadata": {},
   "source": [
    "## Naive Bayes\n",
    "***"
   ]
  },
  {
   "cell_type": "markdown",
   "metadata": {},
   "source": [
    "### Example 1\n",
    "\n",
    "Two cab companies serve a city: the Green company o off the cabs. One perates 85% of the cabs and the blue company operates \n",
    "15%\n",
    "\n",
    "Using bayes theorem.\n",
    "\\begin{align}\n",
    "p(A|B) = \\frac{p(B|A)}{p(B)}p(A)\n",
    "\\end{align}\n",
    "\n",
    "A = \"The car is blue.\"\n",
    "B = \"The witness says the car is blue.\"\n",
    "\\begin{align}\n",
    "p(A) = 0.15 &&\n",
    "P(B) = \n",
    "\\end{align}"
   ]
  },
  {
   "cell_type": "markdown",
   "metadata": {},
   "source": [
    "### Example 2"
   ]
  },
  {
   "cell_type": "code",
   "execution_count": 7,
   "metadata": {},
   "outputs": [
    {
     "data": {
      "text/plain": [
       "0.5"
      ]
     },
     "execution_count": 7,
     "metadata": {},
     "output_type": "execute_result"
    }
   ],
   "source": [
    "import pandas as pd\n",
    "import numpy as np\n",
    "X = np.genfromtxt('data/messages.csv', skip_header=1, filling_values=0, \n",
    "                 delimiter=',', usecols=(0,1,2), dtype='int8')\n",
    "y = np.genfromtxt('data/messages.csv', skip_header=1, \n",
    "                  delimiter=',', usecols=3, dtype='int8')\n",
    "\n",
    "from sklearn.naive_bayes import BernoulliNB\n",
    "clf = BernoulliNB(alpha=0.001) # default algpha is 1 (laplace smoothing)\n",
    "clf.fit(X, y)\n",
    "clf.score(X,y)"
   ]
  }
 ],
 "metadata": {
  "kernelspec": {
   "display_name": "Python 3",
   "language": "python",
   "name": "python3"
  },
  "language_info": {
   "codemirror_mode": {
    "name": "ipython",
    "version": 3
   },
   "file_extension": ".py",
   "mimetype": "text/x-python",
   "name": "python",
   "nbconvert_exporter": "python",
   "pygments_lexer": "ipython3",
   "version": "3.6.3"
  }
 },
 "nbformat": 4,
 "nbformat_minor": 2
}
