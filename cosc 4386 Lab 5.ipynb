{
 "cells": [
  {
   "cell_type": "markdown",
   "metadata": {},
   "source": [
    "# Name: Michael Osei\n",
    "***\n",
    "### Question 0"
   ]
  },
  {
   "cell_type": "code",
   "execution_count": 2,
   "metadata": {},
   "outputs": [
    {
     "name": "stdout",
     "output_type": "stream",
     "text": [
      "Scored 85.00%\n"
     ]
    },
    {
     "data": {
      "image/png": "[encoded data removed]",
      "text/plain": [
       "<matplotlib.figure.Figure at 0x7fe098864be0>"
      ]
     },
     "metadata": {},
     "output_type": "display_data"
    }
   ],
   "source": [
    "from sklearn.svm import LinearSVC\n",
    "import matplotlib.pyplot as plt\n",
    "from sklearn.datasets import make_moons\n",
    "\n",
    "%matplotlib inline\n",
    "\n",
    "X, y = make_moons(n_samples=100, noise=0.25, random_state=3)\n",
    "plt.scatter(X[:,0],X[:,1], marker='o')\n",
    "clf = LinearSVC(C=1)\n",
    "\n",
    "clf.fit(X,y)\n",
    "print(\"Scored {:2.2f}%\".format(clf.score(X,y)*100))"
   ]
  },
  {
   "cell_type": "markdown",
   "metadata": {},
   "source": [
    "### Question 1"
   ]
  },
  {
   "cell_type": "code",
   "execution_count": 3,
   "metadata": {},
   "outputs": [
    {
     "data": {
      "text/plain": [
       "[<matplotlib.lines.Line2D at 0x7fe08cc880f0>]"
      ]
     },
     "execution_count": 3,
     "metadata": {},
     "output_type": "execute_result"
    },
    {
     "data": {
      "image/png": "[encoded data removed]",
      "text/plain": [
       "<matplotlib.figure.Figure at 0x7fe098864470>"
      ]
     },
     "metadata": {},
     "output_type": "display_data"
    }
   ],
   "source": [
    "import numpy as np\n",
    "from math import log2\n",
    "ar = [(-1.0/i**2) * log2(1.0/i**2) for i in range(1,101, 1)]\n",
    "plt.plot(ar)"
   ]
  },
  {
   "cell_type": "markdown",
   "metadata": {},
   "source": [
    "### Question 2"
   ]
  },
  {
   "cell_type": "code",
   "execution_count": 4,
   "metadata": {},
   "outputs": [
    {
     "name": "stdout",
     "output_type": "stream",
     "text": [
      "Minimum entropy is: 0.3245\n"
     ]
    }
   ],
   "source": [
    "from math import log\n",
    "\n",
    "def entropy(m,n):\n",
    "    if n == 0 or m == 0:\n",
    "        return 0\n",
    "    p = float(n)/(n+m)\n",
    "    q = float(m)/(n+m)\n",
    "    return -p*log(p,2) -q*log(q,2)\n",
    "    \n",
    "min = 8.0/20*entropy(6, 2)+9.0/20*entropy(0, 9.0)+3.0/20*entropy(0, 3.0)\n",
    "print(\"Minimum entropy is: {:1.4f}\".format(min))"
   ]
  },
  {
   "cell_type": "code",
   "execution_count": 5,
   "metadata": {},
   "outputs": [
    {
     "name": "stdout",
     "output_type": "stream",
     "text": [
      "(569, 1) (569, 1)\n"
     ]
    }
   ],
   "source": [
    "from sklearn.datasets import load_breast_cancer\n",
    "\n",
    "cancer = load_breast_cancer()\n",
    "col0 = np.expand_dims(cancer.data[:,0], axis=1)\n",
    "col1 = np.expand_dims(cancer.target, axis=1)\n",
    "\n",
    "print(col0.shape, col1.shape)\n",
    "arr = np.hstack((col0, col1))\n",
    "arr = arr[arr[:,0].argsort()]\n",
    "\n",
    "minim = (0, np.inf)\n",
    "nr_points = arr.shape[0]\n",
    "ones_top = 0\n",
    "ones_bot = arr[:,1].sum()\n",
    "zero_top = 0\n",
    "zero_bot = nr_points - ones_bot\n",
    "for i  in range(arr.shape[0]-1):\n",
    "    if arr[i,1] == 1:\n",
    "        ones_top += 1\n",
    "        ones_bot -= 1\n",
    "    else:\n",
    "        zero_top += 1\n",
    "        zero_bot -= 1    \n",
    "    Esplit = (ones_top+zero_top)*entropy(ones_top, zero_top)+ (ones_bot+zero_bot)*entropy(ones_bot, zero_bot)\n",
    "    \n",
    "    if Esplit < minim[1]:\n",
    "        minim = (i,Esplit)\n",
    "print(minim[1])"
   ]
  },
  {
   "cell_type": "markdown",
   "metadata": {},
   "source": [
    "### Question 7"
   ]
  },
  {
   "cell_type": "code",
   "execution_count": 6,
   "metadata": {},
   "outputs": [
    {
     "name": "stdout",
     "output_type": "stream",
     "text": [
      "0.589201151919\n",
      "0.479883127904\n"
     ]
    }
   ],
   "source": [
    "from sklearn.datasets import load_boston\n",
    "from sklearn.model_selection import train_test_split\n",
    "from sklearn.linear_model import LinearRegression\n",
    "from sklearn.ensemble import BaggingRegressor\n",
    "\n",
    "boston = load_boston()\n",
    "\n",
    "X_train, X_test, y_train, y_test = train_test_split(boston.data, boston.target, \n",
    "                                                    train_size=0.8, test_size=0.2,random_state=0)\n",
    "clf = LinearRegression()\n",
    "clf.fit(X_train, y_train)\n",
    "print(clf.score(X_test, y_test))\n",
    "\n",
    "bag = BaggingRegressor(base_estimator=LinearRegression(), n_estimators=1000, \n",
    "                       max_features=0.5, random_state=0)\n",
    "bag.fit(X_train, y_train)\n",
    "print(bag.score(X_test, y_test))"
   ]
  },
  {
   "cell_type": "markdown",
   "metadata": {},
   "source": [
    "The error for the ensemble classifier is lower "
   ]
  }
 ],
 "metadata": {
  "kernelspec": {
   "display_name": "Python 3",
   "language": "python",
   "name": "python3"
  },
  "language_info": {
   "codemirror_mode": {
    "name": "ipython",
    "version": 3
   },
   "file_extension": ".py",
   "mimetype": "text/x-python",
   "name": "python",
   "nbconvert_exporter": "python",
   "pygments_lexer": "ipython3",
   "version": "3.6.3"
  }
 },
 "nbformat": 4,
 "nbformat_minor": 2
}
