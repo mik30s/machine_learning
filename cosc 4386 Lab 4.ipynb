{
 "cells": [
  {
   "cell_type": "markdown",
   "metadata": {},
   "source": [
    "## Name: Michael Osei\n",
    "***"
   ]
  },
  {
   "cell_type": "markdown",
   "metadata": {},
   "source": [
    "### Question 0"
   ]
  },
  {
   "cell_type": "code",
   "execution_count": 83,
   "metadata": {},
   "outputs": [
    {
     "name": "stdout",
     "output_type": "stream",
     "text": [
      "[[0 0 1 0 0]\n",
      " [0 0 0 0 0]\n",
      " [0 0 0 0 0]\n",
      " [0 0 0 0 0]\n",
      " [0 0 0 0 0]]\n"
     ]
    },
    {
     "data": {
      "text/plain": [
       "<matplotlib.image.AxesImage at 0x7f6e15349780>"
      ]
     },
     "execution_count": 83,
     "metadata": {},
     "output_type": "execute_result"
    },
    {
     "data": {
      "image/png": "[encoded data removed]",
      "text/plain": [
       "<matplotlib.figure.Figure at 0x7f6e1538b630>"
      ]
     },
     "metadata": {},
     "output_type": "display_data"
    }
   ],
   "source": [
    "%matplotlib inline\n",
    "import numpy as np\n",
    "from time import time\n",
    "import matplotlib.pyplot as plt\n",
    "\n",
    "nr_points = 10000\n",
    "nr_features = 1000\n",
    "\n",
    "X = np.random.binomial(n=1, p=0.1, size=(nr_points, nr_features))\n",
    "print(X[:5,:5])\n",
    "plt.spy(X)\n"
   ]
  },
  {
   "cell_type": "markdown",
   "metadata": {},
   "source": [
    "### Question 1"
   ]
  },
  {
   "cell_type": "code",
   "execution_count": 84,
   "metadata": {},
   "outputs": [
    {
     "name": "stdout",
     "output_type": "stream",
     "text": [
      "[2 2 2 ..., 0 1 2]\n"
     ]
    }
   ],
   "source": [
    "from sklearn import naive_bayes \n",
    "\n",
    "y = np.random.randint(0, 3, nr_points)\n",
    "print(y)"
   ]
  },
  {
   "cell_type": "markdown",
   "metadata": {},
   "source": [
    "### Question 2"
   ]
  },
  {
   "cell_type": "code",
   "execution_count": 85,
   "metadata": {},
   "outputs": [
    {
     "name": "stdout",
     "output_type": "stream",
     "text": [
      "t1 = 0.26019 seconds\n"
     ]
    }
   ],
   "source": [
    "clf = naive_bayes.BernoulliNB()\n",
    "start = time()\n",
    "clf.fit(X, y)\n",
    "t1 = time() - start\n",
    "print(\"t1 = {:0.5f} seconds\".format(t1))"
   ]
  },
  {
   "cell_type": "markdown",
   "metadata": {},
   "source": [
    "### Question 3"
   ]
  },
  {
   "cell_type": "code",
   "execution_count": 91,
   "metadata": {},
   "outputs": [
    {
     "name": "stdout",
     "output_type": "stream",
     "text": [
      "t2 = 0.02048 seconds\n",
      "Sparse matrices are x13 faster\n"
     ]
    }
   ],
   "source": [
    "from scipy.sparse import csr_matrix\n",
    "\n",
    "X_sparse = csr_matrix(X)\n",
    "clf = naive_bayes.BernoulliNB()\n",
    "start = time()\n",
    "clf.fit(X_sparse, y)\n",
    "t2 = time() - start\n",
    "print(\"t2 = {:0.5f} seconds\".format(t2))\n",
    "\n",
    "print(\"Sparse matrices are x{:.0f} faster\".format((t1/t2)))"
   ]
  },
  {
   "cell_type": "markdown",
   "metadata": {},
   "source": [
    "### Question 6"
   ]
  },
  {
   "cell_type": "code",
   "execution_count": 143,
   "metadata": {},
   "outputs": [
    {
     "name": "stdout",
     "output_type": "stream",
     "text": [
      "97.24%\n",
      "97.12%\n"
     ]
    }
   ],
   "source": [
    "nr_feat = 900\n",
    "\n",
    "y = np.array([0]*nr_points + [1]*nr_points + [2]*nr_points)\n",
    "\n",
    "LO = np.zeros((nr_points, nr_feat//3), 'int8')\n",
    "ME = np.zeros((nr_points, nr_feat//3), 'int8')\n",
    "HI = np.zeros((nr_points, nr_feat//3), 'int8')\n",
    "\n",
    "for i in range(nr_feat//3):\n",
    "    LO[:,i] = np.random.binomial(n=1, p=float((i+1)/(i+2))/100, size=nr_points)    \n",
    "    ME[:,i] = np.random.binomial(n=1, p=float((i+1)*2/(i+2))/100, size=nr_points)    \n",
    "    HI[:,i] = np.random.binomial(n=1, p=float((i+1)*4/(i+2))/100, size=nr_points)\n",
    "    \n",
    "block1 = np.hstack((LO, ME, HI))\n",
    "block2 = np.hstack((HI, LO, ME))\n",
    "block3 = np.hstack((ME, HI, LO))\n",
    "X = np.vstack((block1, block2, block3))\n",
    "\n",
    "from sklearn.model_selection import train_test_split\n",
    "\n",
    "X_train, X_test, y_train, y_test = train_test_split(X, y, train_size=0.8, test_size=0.2)\n",
    "\n",
    "clf = naive_bayes.BernoulliNB()\n",
    "clf.fit(X_train, y_train)\n",
    "print(\"{:.2f}%\".format(clf.score(X_train, y_train) * 100))\n",
    "clf.fit(X_train, y_train)\n",
    "print(\"{:.2f}%\".format(clf.score(X_test, y_test) * 100))"
   ]
  }
 ],
 "metadata": {
  "kernelspec": {
   "display_name": "Python 3",
   "language": "python",
   "name": "python3"
  },
  "language_info": {
   "codemirror_mode": {
    "name": "ipython",
    "version": 3
   },
   "file_extension": ".py",
   "mimetype": "text/x-python",
   "name": "python",
   "nbconvert_exporter": "python",
   "pygments_lexer": "ipython3",
   "version": "3.6.3"
  }
 },
 "nbformat": 4,
 "nbformat_minor": 2
}
