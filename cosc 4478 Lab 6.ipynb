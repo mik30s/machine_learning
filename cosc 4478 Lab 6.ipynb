{
 "cells": [
  {
   "cell_type": "markdown",
   "metadata": {},
   "source": [
    "## Name: Michael Osei\n",
    "***"
   ]
  },
  {
   "cell_type": "markdown",
   "metadata": {},
   "source": [
    "### Question 5"
   ]
  },
  {
   "cell_type": "code",
   "execution_count": 6,
   "metadata": {},
   "outputs": [],
   "source": [
    "A = [-1, -1, -1,   1,  1, -1,  1,  1]\n",
    "B = [-1, -1,  1,  -1,  1,  1,  1, -1]\n",
    "C = [-1,  1, -1,   1,  1,  1, -1, -1]\n",
    "D = [-1,  1, -1,  -1, -1, -1,  1, -1]\n",
    "stat = [-1, -1, 1, -1]"
   ]
  },
  {
   "cell_type": "code",
   "execution_count": 7,
   "metadata": {},
   "outputs": [
    {
     "name": "stdout",
     "output_type": "stream",
     "text": [
      "[2, 2, 0, 2, 0, 2, -4, 0]\n"
     ]
    }
   ],
   "source": [
    "def encodeCDMA(stat):\n",
    "    S = [0]*8\n",
    "    for i in range(8):\n",
    "        S[i] = stat[0] * A[i] + stat[1]*B[i]+\\\n",
    "               stat[2] * C[i] + stat[3]*D[i]\n",
    "    return S\n",
    "\n",
    "print(encodeCDMA(stat))"
   ]
  },
  {
   "cell_type": "markdown",
   "metadata": {},
   "source": [
    "### Question 6"
   ]
  },
  {
   "cell_type": "code",
   "execution_count": 26,
   "metadata": {},
   "outputs": [
    {
     "name": "stdout",
     "output_type": "stream",
     "text": [
      "True stat is equal\n"
     ]
    }
   ],
   "source": [
    "def decodeCDMA(chipSeq, signal):\n",
    "    D = [0] * 8\n",
    "    for i in range(len(signal)):\n",
    "        D[i] = chipSeq[i] * signal[i]\n",
    "    trans = sum(D) / len(signal) \n",
    "    return int(trans)\n",
    "\n",
    "bitsTransmitted = [decodeCDMA(cs, encodeCDMA(stat)) for cs in [A, B, C, D]]\n",
    "print(bitsTransmitted == stat, \"stat is equal\")"
   ]
  },
  {
   "cell_type": "code",
   "execution_count": null,
   "metadata": {},
   "outputs": [],
   "source": []
  },
  {
   "cell_type": "code",
   "execution_count": null,
   "metadata": {},
   "outputs": [],
   "source": []
  }
 ],
 "metadata": {
  "kernelspec": {
   "display_name": "Python 3",
   "language": "python",
   "name": "python3"
  },
  "language_info": {
   "codemirror_mode": {
    "name": "ipython",
    "version": 3
   },
   "file_extension": ".py",
   "mimetype": "text/x-python",
   "name": "python",
   "nbconvert_exporter": "python",
   "pygments_lexer": "ipython3",
   "version": "3.6.3"
  }
 },
 "nbformat": 4,
 "nbformat_minor": 2
}
