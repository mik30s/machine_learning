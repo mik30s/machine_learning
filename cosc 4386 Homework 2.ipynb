{
 "cells": [
  {
   "cell_type": "markdown",
   "metadata": {},
   "source": [
    "## Name: Michael Osei\n",
    "***"
   ]
  },
  {
   "cell_type": "markdown",
   "metadata": {},
   "source": [
    "### Question 1"
   ]
  },
  {
   "cell_type": "code",
   "execution_count": 255,
   "metadata": {},
   "outputs": [
    {
     "data": {
      "image/png": "[encoded data removed]",
      "text/plain": [
       "<matplotlib.figure.Figure at 0x7f91796d7f98>"
      ]
     },
     "metadata": {},
     "output_type": "display_data"
    }
   ],
   "source": [
    "from sklearn.datasets import load_breast_cancer\n",
    "import matplotlib.pyplot as plt\n",
    "%matplotlib inline\n",
    "cancer = load_breast_cancer()\n",
    "\n",
    "benign = [x[0] for i, x in enumerate(cancer.data) if cancer.target[i] == 1]\n",
    "malignant = [x[0] for i, x in enumerate(cancer.data) if cancer.target[i] == 0]\n",
    "\n",
    "plt.hist(benign, range(30), normed=1)\n",
    "plt.hist(malignant, range(30), normed=1)\n",
    "plt.legend()\n",
    "\n",
    "plt.show()"
   ]
  },
  {
   "cell_type": "markdown",
   "metadata": {},
   "source": [
    "### Question 2"
   ]
  },
  {
   "cell_type": "code",
   "execution_count": 269,
   "metadata": {},
   "outputs": [
    {
     "data": {
      "image/png": "[encoded data removed]",
      "text/plain": [
       "<matplotlib.figure.Figure at 0x7f9181246c88>"
      ]
     },
     "metadata": {},
     "output_type": "display_data"
    }
   ],
   "source": [
    "import mglearn\n",
    "import pandas as pd\n",
    "import numpy as np\n",
    "\n",
    "mRadius = cancer.data[0]\n",
    "mArea = cancer.data[3]\n",
    "mTexture = cancer.data[1]\n",
    "mPerimeter = cancer.data[2]\n",
    "\n",
    "plt.scatter(mArea, mRadius, color='red',alpha=0.5)\n",
    "plt.scatter(mTexture, mRadius, color='blue', alpha=0.5)\n",
    "plt.scatter(mPerimeter, mRadius, color='green', alpha=0.5)\n",
    "plt.ylabel('Radius')\n",
    "plt.xlabel('[area, texture, perimeter]')\n",
    "plt.show()"
   ]
  },
  {
   "cell_type": "markdown",
   "metadata": {},
   "source": [
    "As the radius increases the area, texture and perimeter "
   ]
  },
  {
   "cell_type": "markdown",
   "metadata": {},
   "source": [
    "### Question 3"
   ]
  },
  {
   "cell_type": "code",
   "execution_count": 166,
   "metadata": {},
   "outputs": [
    {
     "data": {
      "text/markdown": [
       "a. Number of features is 13"
      ],
      "text/plain": [
       "<IPython.core.display.Markdown object>"
      ]
     },
     "metadata": {},
     "output_type": "display_data"
    },
    {
     "data": {
      "text/markdown": [
       "b. Number of data points is 178"
      ],
      "text/plain": [
       "<IPython.core.display.Markdown object>"
      ]
     },
     "metadata": {},
     "output_type": "display_data"
    },
    {
     "data": {
      "text/markdown": [
       "c. This is a classification problem since each samples targets is in one of three classes"
      ],
      "text/plain": [
       "<IPython.core.display.Markdown object>"
      ]
     },
     "metadata": {},
     "output_type": "display_data"
    },
    {
     "data": {
      "text/markdown": [
       "d. Number of classes is 3 they are ['class_0' 'class_1' 'class_2']"
      ],
      "text/plain": [
       "<IPython.core.display.Markdown object>"
      ]
     },
     "metadata": {},
     "output_type": "display_data"
    }
   ],
   "source": [
    "from sklearn.datasets import load_wine\n",
    "from IPython.display import display, Markdown\n",
    "\n",
    "wine = load_wine()\n",
    "display(Markdown(\"a. Number of features is {}\".format(len(wine.feature_names))))\n",
    "display(Markdown(\"b. Number of data points is {}\".format(len(wine.data))))\n",
    "display(Markdown(\"c. This is a classification problem since each samples targets is in \"+\n",
    "                 \"one of three classes\"))\n",
    "display(Markdown(\"d. Number of classes is {} they are {}\".format(len(wine.target_names), \n",
    "                                                                 wine.target_names)))\n"
   ]
  },
  {
   "cell_type": "markdown",
   "metadata": {},
   "source": [
    "e. Training on 70/30 split"
   ]
  },
  {
   "cell_type": "code",
   "execution_count": 250,
   "metadata": {},
   "outputs": [
    {
     "data": {
      "text/markdown": [
       "f. Scores forr training and test sets."
      ],
      "text/plain": [
       "<IPython.core.display.Markdown object>"
      ]
     },
     "metadata": {},
     "output_type": "display_data"
    },
    {
     "name": "stdout",
     "output_type": "stream",
     "text": [
      "Training Score: 89.52%\n",
      "Testing Score: 88.89%\n"
     ]
    }
   ],
   "source": [
    "from sklearn.model_selection import train_test_split\n",
    "from sklearn import svm\n",
    "\n",
    "clf = svm.LinearSVC()\n",
    "Xtrain, Xtest, yTrain, yTest = train_test_split(wine.data, wine.target, random_state=42,\n",
    "                                                train_size=0.7, test_size=0.3)\n",
    "display(Markdown(\"f. Scores forr training and test sets.\"))\n",
    "clf.fit(Xtrain, yTrain)\n",
    "print(\"Training Score: {:2.2f}%\".format(clf.score(Xtrain, yTrain)*100))\n",
    "clf.fit(Xtest, yTest)\n",
    "print(\"Testing Score: {:2.2f}%\".format(clf.score(Xtest, yTest)*100))\n"
   ]
  },
  {
   "cell_type": "code",
   "execution_count": 251,
   "metadata": {},
   "outputs": [
    {
     "name": "stdout",
     "output_type": "stream",
     "text": [
      "Training Score: 83.87%\n",
      "Testing Score: 77.78%\n",
      "Training Score: 64.52%\n",
      "Testing Score: 75.93%\n",
      "Training Score: 92.74%\n",
      "Testing Score: 81.48%\n"
     ]
    }
   ],
   "source": [
    "for i in [0.01, 1.0, 100.0]:\n",
    "    clf = svm.LinearSVC(C=i)\n",
    "    clf.fit(Xtrain, yTrain)\n",
    "    print(\"Training Score: {:2.2f}%\".format(clf.score(Xtrain, yTrain)*100))\n",
    "    clf.fit(Xtest, yTest)\n",
    "    print(\"Testing Score: {:2.2f}%\".format(clf.score(Xtest, yTest)*100))"
   ]
  },
  {
   "cell_type": "markdown",
   "metadata": {},
   "source": [
    "C = 1.0 performed the best out of the three"
   ]
  },
  {
   "cell_type": "code",
   "execution_count": null,
   "metadata": {},
   "outputs": [],
   "source": []
  }
 ],
 "metadata": {
  "kernelspec": {
   "display_name": "Python 3",
   "language": "python",
   "name": "python3"
  },
  "language_info": {
   "codemirror_mode": {
    "name": "ipython",
    "version": 3
   },
   "file_extension": ".py",
   "mimetype": "text/x-python",
   "name": "python",
   "nbconvert_exporter": "python",
   "pygments_lexer": "ipython3",
   "version": "3.6.3"
  }
 },
 "nbformat": 4,
 "nbformat_minor": 2
}
