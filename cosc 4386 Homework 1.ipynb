{
 "cells": [
  {
   "cell_type": "markdown",
   "metadata": {},
   "source": [
    "#### Name: Michael Osei\n",
    "***"
   ]
  },
  {
   "cell_type": "code",
   "execution_count": 136,
   "metadata": {},
   "outputs": [],
   "source": [
    "from sklearn.neighbors import KNeighborsClassifier\n",
    "from sklearn.model_selection import train_test_split\n",
    "from sklearn.datasets import load_iris\n",
    "import matplotlib.pyplot as plt\n",
    "import numpy as np"
   ]
  },
  {
   "cell_type": "markdown",
   "metadata": {},
   "source": [
    "Load iris data and split data into test and train data sets"
   ]
  },
  {
   "cell_type": "code",
   "execution_count": 66,
   "metadata": {},
   "outputs": [],
   "source": [
    "dataset = load_iris()\n",
    "\n",
    "Xtrain, Xtest, yTrain, ytest =\\\n",
    "train_test_split(dataset.data, dataset.target, \n",
    "                 random_state=0,\n",
    "                 train_size=0.8,\n",
    "                 test_size=0.2)"
   ]
  },
  {
   "cell_type": "markdown",
   "metadata": {},
   "source": [
    "#### Question 1(a2)"
   ]
  },
  {
   "cell_type": "code",
   "execution_count": 67,
   "metadata": {},
   "outputs": [
    {
     "name": "stdout",
     "output_type": "stream",
     "text": [
      "example 0=[ 5.   2.9  1.   0.2] is a setosa\n",
      "example 1=[ 4.   1.9  3.   0.7] is a versicolor\n"
     ]
    }
   ],
   "source": [
    "knn3 = KNeighborsClassifier(n_neighbors=3)\n",
    "knn3.fit(Xtrain, yTrain)\n",
    "examples = np.array([[5, 2.9, 1, 0.2], [4,1.9,3,0.7]])\n",
    "prediction = knn.predict(examples)\n",
    "\n",
    "print(\"example 0={} is a {}\".format(examples[0], dataset.target_names[prediction[0]]))\n",
    "print(\"example 1={} is a {}\".format(examples[1], dataset.target_names[prediction[1]]))"
   ]
  },
  {
   "cell_type": "markdown",
   "metadata": {},
   "source": [
    "#### Question 1(a2)"
   ]
  },
  {
   "cell_type": "code",
   "execution_count": 68,
   "metadata": {},
   "outputs": [
    {
     "name": "stdout",
     "output_type": "stream",
     "text": [
      "example 0=[ 5.   2.9  1.   0.2] is a setosa\n",
      "example 1=[ 4.   1.9  3.   0.7] is a versicolor\n"
     ]
    }
   ],
   "source": [
    "knn5 = KNeighborsClassifier(n_neighbors=5)\n",
    "knn5.fit(Xtrain, yTrain)\n",
    "examples = np.array([[5, 2.9, 1, 0.2], [4,1.9,3,0.7]])\n",
    "prediction = knn.predict(examples)\n",
    "\n",
    "print(\"example 0={} is a {}\".format(examples[0], dataset.target_names[prediction[0]]))\n",
    "print(\"example 1={} is a {}\".format(examples[1], dataset.target_names[prediction[1]]))"
   ]
  },
  {
   "cell_type": "markdown",
   "metadata": {},
   "source": [
    "#### Question 1(b1)"
   ]
  },
  {
   "cell_type": "code",
   "execution_count": 69,
   "metadata": {},
   "outputs": [
    {
     "name": "stdout",
     "output_type": "stream",
     "text": [
      "3-nn model score = 96.7%\n"
     ]
    }
   ],
   "source": [
    "# test on 80/20 split\n",
    "yPred = knn3.predict(Xtest)\n",
    "print(\"3-nn model score = {:3.3}%\".format(knn3.score(Xtest,ytest)*100))"
   ]
  },
  {
   "cell_type": "markdown",
   "metadata": {},
   "source": [
    "#### Question 1(b2)"
   ]
  },
  {
   "cell_type": "code",
   "execution_count": 70,
   "metadata": {},
   "outputs": [
    {
     "name": "stdout",
     "output_type": "stream",
     "text": [
      "5-nn model score = 96.7%\n"
     ]
    }
   ],
   "source": [
    "# test on 80/20 split\n",
    "yPred = knn5.predict(Xtest)\n",
    "print(\"5-nn model score = {:3.3}%\".format(knn5.score(Xtest,ytest)*100))"
   ]
  },
  {
   "cell_type": "markdown",
   "metadata": {},
   "source": [
    "#### Question 2(a)"
   ]
  },
  {
   "cell_type": "code",
   "execution_count": 148,
   "metadata": {},
   "outputs": [
    {
     "name": "stdout",
     "output_type": "stream",
     "text": [
      "training set:\n",
      " [[ 1.5  0.2]\n",
      " [ 1.4  0.2]\n",
      " [ 3.   1.1]\n",
      " [ 4.1  1.3]\n",
      " [ 5.4  2.3]\n",
      " [ 5.1  1.8]]\n",
      "predict set:\n",
      " [[ 1.6  0.5]\n",
      " [ 4.   1.5]]\n"
     ]
    }
   ],
   "source": [
    "td = np.genfromtxt('data/hwrk1_data.txt', dtype=np.str, skip_header=1, \n",
    "                   skip_footer=2, delimiter=',')\n",
    "X_new = np.genfromtxt('data/hwrk1_data.txt', skip_header=9, delimiter=',')\n",
    "y_train = td[:,2]\n",
    "x1_train = np.array(td[:,0], dtype=np.float)\n",
    "x2_train = np.array(td[:,1], dtype=np.float)\n",
    "X_train = np.transpose(np.vstack((x1_train, x2_train)))\n",
    "print(\"training set:\\n {}\".format( X_train))\n",
    "print(\"predict set:\\n {}\".format( X_new))"
   ]
  },
  {
   "cell_type": "markdown",
   "metadata": {},
   "source": [
    "Plot to visualize data"
   ]
  },
  {
   "cell_type": "code",
   "execution_count": 154,
   "metadata": {},
   "outputs": [
    {
     "data": {
      "image/png": "[encoded data removed]",
      "text/plain": [
       "<matplotlib.figure.Figure at 0x7fe51957dd30>"
      ]
     },
     "metadata": {},
     "output_type": "display_data"
    }
   ],
   "source": [
    "for p in td:\n",
    "    color = None\n",
    "    if p[2] == ' A': color = 'r'\n",
    "    elif p[2] == ' B': color = 'g'\n",
    "    else: color = 'b'\n",
    "    ar = np.array(p[:2],dtype=np.float)\n",
    "    plt.plot(ar[0], ar[1], color=color, marker='o')\n",
    "plt.show()"
   ]
  },
  {
   "cell_type": "markdown",
   "metadata": {},
   "source": [
    "#### Question 2(b)"
   ]
  },
  {
   "cell_type": "code",
   "execution_count": 131,
   "metadata": {},
   "outputs": [
    {
     "name": "stdout",
     "output_type": "stream",
     "text": [
      "sample [ 1.6  0.5] is  A\n",
      "sample [ 4.   1.5] is  B\n"
     ]
    }
   ],
   "source": [
    "knn = KNeighborsClassifier(n_neighbors=3)\n",
    "knn.fit(X_train, y_train)\n",
    "preds = knn.predict(X_new)\n",
    "print(\"sample {} is {}\".format(X_new[0], preds[0]))\n",
    "print(\"sample {} is {}\".format(X_new[1], preds[1]))"
   ]
  }
 ],
 "metadata": {
  "kernelspec": {
   "display_name": "Python 3",
   "language": "python",
   "name": "python3"
  },
  "language_info": {
   "codemirror_mode": {
    "name": "ipython",
    "version": 3
   },
   "file_extension": ".py",
   "mimetype": "text/x-python",
   "name": "python",
   "nbconvert_exporter": "python",
   "pygments_lexer": "ipython3",
   "version": "3.6.3"
  }
 },
 "nbformat": 4,
 "nbformat_minor": 2
}
