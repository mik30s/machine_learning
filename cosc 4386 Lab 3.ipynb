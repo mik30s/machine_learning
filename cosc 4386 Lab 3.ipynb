{
 "cells": [
  {
   "cell_type": "markdown",
   "metadata": {},
   "source": [
    "## Name: Michael Osei\n",
    "***\n",
    "### Question 3"
   ]
  },
  {
   "cell_type": "code",
   "execution_count": 9,
   "metadata": {},
   "outputs": [],
   "source": [
    "from sklearn.datasets import load_iris\n",
    "from sklearn.model_selection import train_test_split\n",
    "import pandas as pd\n",
    "import numpy as np\n",
    "\n",
    "iris_data = load_iris()\n",
    "\n",
    "X = np.expand_dims(iris_data.data[:,2], axis=1)\n",
    "y = iris_data.data[:,3]\n",
    "\n",
    "Xtrain, Xtest, yTrain, yTest = train_test_split(\n",
    "                    X, y, random_state=0, train_size=0.8,\n",
    "                    test_size=0.2)"
   ]
  },
  {
   "cell_type": "markdown",
   "metadata": {},
   "source": [
    "#### Ordinary Least Squares Regresssion"
   ]
  },
  {
   "cell_type": "code",
   "execution_count": 14,
   "metadata": {},
   "outputs": [
    {
     "name": "stdout",
     "output_type": "stream",
     "text": [
      "Score  (training): 93.73%\n",
      "Score  (testing): 87.06%\n"
     ]
    }
   ],
   "source": [
    "from sklearn.linear_model import LinearRegression\n",
    "lr = LinearRegression().fit(Xtrain, yTrain)\n",
    "trsc = lr.score(Xtrain, yTrain)\n",
    "tesc = lr.score(Xtest, yTest)\n",
    "print(\"Score  (training): {:0.2f}%\".format(trsc * 100))\n",
    "print(\"Score  (testing): {:0.2f}%\".format(tesc * 100))"
   ]
  },
  {
   "cell_type": "markdown",
   "metadata": {},
   "source": [
    "#### Ridge Regression "
   ]
  },
  {
   "cell_type": "code",
   "execution_count": 21,
   "metadata": {},
   "outputs": [
    {
     "name": "stdout",
     "output_type": "stream",
     "text": [
      "Score  (training): 93.67%\n",
      "Score  (testing): 87.31%\n"
     ]
    }
   ],
   "source": [
    "from sklearn.linear_model import Ridge\n",
    "rr = Ridge(alpha=10).fit(Xtrain, yTrain)\n",
    "trsc = rr.score(Xtrain, yTrain)\n",
    "tesc = rr.score(Xtest, yTest)\n",
    "print(\"Score  (training): {:0.2f}%\".format(trsc * 100))\n",
    "print(\"Score  (testing): {:0.2f}%\".format(tesc * 100))"
   ]
  },
  {
   "cell_type": "markdown",
   "metadata": {},
   "source": [
    "#### Lasso Regression"
   ]
  },
  {
   "cell_type": "code",
   "execution_count": 24,
   "metadata": {},
   "outputs": [
    {
     "name": "stdout",
     "output_type": "stream",
     "text": [
      "Score  (training): 93.20%\n",
      "Score  (testing): 87.41%\n",
      "# of features used: 1\n"
     ]
    }
   ],
   "source": [
    "from sklearn.linear_model import Lasso\n",
    "llr = Lasso(alpha=0.1, max_iter=100000).fit(Xtrain, yTrain)\n",
    "trsc = llr.score(Xtrain, yTrain)\n",
    "tesc = llr.score(Xtest, yTest)\n",
    "print(\"Score  (training): {:0.2f}%\".format(trsc * 100))\n",
    "print(\"Score  (testing): {:0.2f}%\".format(tesc * 100))\n",
    "print(\"# of features used: {}\".format(np.sum(llr.coef_ != 0)))"
   ]
  },
  {
   "cell_type": "markdown",
   "metadata": {},
   "source": [
    "### Question 4"
   ]
  },
  {
   "cell_type": "code",
   "execution_count": 34,
   "metadata": {},
   "outputs": [],
   "source": [
    "X = iris_data.data[:100]\n",
    "Y = iris_data.target[:100]\n",
    "\n",
    "Xtrain, Xtest, yTrain, yTest = train_test_split(\n",
    "                    X, Y, random_state=4, train_size=0.8,\n",
    "                    test_size=0.2)"
   ]
  },
  {
   "cell_type": "code",
   "execution_count": 35,
   "metadata": {},
   "outputs": [
    {
     "name": "stdout",
     "output_type": "stream",
     "text": [
      "Score  (training): 100.00%\n",
      "Score  (testing): 100.00%\n"
     ]
    }
   ],
   "source": [
    "from sklearn.linear_model import LogisticRegression\n",
    "logr = LogisticRegression().fit(Xtrain, yTrain)\n",
    "trsc = logr.score(Xtrain, yTrain)\n",
    "tesc = logr.score(Xtest, yTest)\n",
    "print(\"Score  (training): {:0.2f}%\".format(trsc * 100))\n",
    "print(\"Score  (testing): {:0.2f}%\".format(tesc * 100))"
   ]
  },
  {
   "cell_type": "code",
   "execution_count": 42,
   "metadata": {},
   "outputs": [
    {
     "data": {
      "text/plain": [
       "[<matplotlib.lines.Line2D at 0x7f22727b3908>]"
      ]
     },
     "execution_count": 42,
     "metadata": {},
     "output_type": "execute_result"
    },
    {
     "data": {
      "image/png": "[encoded data removed]",
      "text/plain": [
       "<matplotlib.figure.Figure at 0x7f2272a61b38>"
      ]
     },
     "metadata": {},
     "output_type": "display_data"
    }
   ],
   "source": [
    "from sklearn.linear_model import Ridge\n",
    "from matplotlib import pyplot as plt\n",
    "%matplotlib inline\n",
    "\n",
    "X = np.expand_dims(iris_data.data[:,2], axis=1)\n",
    "Y = iris_data.data[:,3]\n",
    "\n",
    "Xtrain, Xtest, yTrain, yTest = train_test_split(\n",
    "                    X, Y, random_state=4, train_size=0.8,\n",
    "                    test_size=0.2)\n",
    "xAxis = np.linspace(1,50, 100)\n",
    "scores = []\n",
    "maxSc = 0\n",
    "maxA = 0\n",
    "for i in xAxis:\n",
    "    ridge = Ridge(alpha=i).fit(Xtrain, yTrain)\n",
    "    sc= ridge.score(Xtest, yTest)\n",
    "    scores.append(sc)\n",
    "    if sc > maxSc:\n",
    "        maxSc = sc\n",
    "        maxA = i\n",
    "plt.title(\"alpa={:0.2f} score={:0.4}\".format(maxA, maxSc))\n",
    "plt.plot(xAxis, scores)\n"
   ]
  },
  {
   "cell_type": "code",
   "execution_count": null,
   "metadata": {},
   "outputs": [],
   "source": []
  }
 ],
 "metadata": {
  "kernelspec": {
   "display_name": "Python 3",
   "language": "python",
   "name": "python3"
  },
  "language_info": {
   "codemirror_mode": {
    "name": "ipython",
    "version": 3
   },
   "file_extension": ".py",
   "mimetype": "text/x-python",
   "name": "python",
   "nbconvert_exporter": "python",
   "pygments_lexer": "ipython3",
   "version": "3.6.3"
  }
 },
 "nbformat": 4,
 "nbformat_minor": 2
}
