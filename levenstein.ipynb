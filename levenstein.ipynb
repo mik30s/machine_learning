{
 "cells": [
  {
   "cell_type": "markdown",
   "metadata": {},
   "source": [
    "## Levenstein Distance"
   ]
  },
  {
   "cell_type": "code",
   "execution_count": null,
   "metadata": {},
   "outputs": [
    {
     "name": "stdout",
     "output_type": "stream",
     "text": [
      "aval\n",
      "corrected:  ceint\n"
     ]
    }
   ],
   "source": [
    "from collections import defaultdict\n",
    "\n",
    "# build ditionary\n",
    "def build_dict(filename):\n",
    "\toxdict = defaultdict(list)\n",
    "\twith open(filename, encoding='utf-8') as file:\n",
    "\t\tfor line in file: oxdict[line[0:1]].append(line.strip(\"\\n\"))\n",
    "\treturn oxdict\n",
    "\n",
    "# compute edit distance\n",
    "def compute_distance(source, target):\n",
    "\tn, m = len(source), len(target)\n",
    "\t# print(n,m)\n",
    "\tmatrix =  [[0]*(n+1) for i in range(m+1)]\n",
    "\tfor i in range(n+1): matrix[0][i] = i\n",
    "\tfor j in range(m+1): matrix[j][0] = j\n",
    "\tfor i in list(range(1,m+1)):\n",
    "\t\tfor j in list(range(1,n+1)):\n",
    "\t\t\t# print(i,j)\n",
    "\t\t\tcost = 0 if source[j-1] == target[i-1] else 1\n",
    "\t\t\tmatrix[i][j] = min([matrix[i-1][j] + 1, matrix[i][j-1] + 1, matrix[i-1][j-1] + cost])\n",
    "\treturn matrix[m][n]\n",
    "\n",
    "\n",
    "word, word_dict = \"\", build_dict(\"data/words.txt\")\n",
    "while(word != \"q\"):\n",
    "\tword = input(\"your word: \")\n",
    "\tif word in word_dict[word[0:1]]: print(word)\n",
    "\telse: \n",
    "\t\t#print(\"is not in\")\n",
    "\t\tdistances = {}\n",
    "\t\tcorrect = \"\"\n",
    "\t\tfor w in word_dict[word[0:1]]: \n",
    "\t\t\tdistances[w] = compute_distance(w,word)\n",
    "\t\tcorrect = min(distances, key=distances.get)\n",
    "\t\tprint(\"corrected: \", correct)"
   ]
  },
  {
   "cell_type": "code",
   "execution_count": null,
   "metadata": {},
   "outputs": [],
   "source": [
    "#!/usr/bin/env python\n",
    "\"\"\"\n",
    "Produces load on all available CPU cores\n",
    "\"\"\"\n",
    "from multiprocessing import Pool\n",
    "from multiprocessing import cpu_count\n",
    "\n",
    "\n",
    "def f(x):\n",
    "    while True:\n",
    "        x*x\n",
    "\n",
    "while True:\n",
    "    processes = cpu_count()\n",
    "    print('utilizing %d cores\\n' % processes)\n",
    "    pool = Pool(processes)\n",
    "    pool.map(f, range(processes))"
   ]
  },
  {
   "cell_type": "code",
   "execution_count": null,
   "metadata": {},
   "outputs": [],
   "source": []
  },
  {
   "cell_type": "code",
   "execution_count": null,
   "metadata": {},
   "outputs": [],
   "source": []
  }
 ],
 "metadata": {
  "kernelspec": {
   "display_name": "Python 3",
   "language": "python",
   "name": "python3"
  },
  "language_info": {
   "codemirror_mode": {
    "name": "ipython",
    "version": 3
   },
   "file_extension": ".py",
   "mimetype": "text/x-python",
   "name": "python",
   "nbconvert_exporter": "python",
   "pygments_lexer": "ipython3",
   "version": "3.6.3"
  }
 },
 "nbformat": 4,
 "nbformat_minor": 2
}
