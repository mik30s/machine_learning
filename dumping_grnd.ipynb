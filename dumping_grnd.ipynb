{
 "cells": [
  {
   "cell_type": "code",
   "execution_count": 16,
   "metadata": {},
   "outputs": [
    {
     "name": "stdout",
     "output_type": "stream",
     "text": [
      "[8.57610625809101, 5.707258866648796, 7.34533289052586, 7.112868846610327, 8.837893208946838, 8.678857125311913, 9.265764233045152, 6.31862680565364, 7.9048986890604995, 5.771974344626431]\n",
      "9.265764233045152\n"
     ]
    }
   ],
   "source": [
    "from functools import reduce\n",
    "from random import triangular, seed\n",
    "\n",
    "seed(42)\n",
    "nums = [triangular(5,10,9) for i in range(10)]\n",
    "print(nums)\n",
    "m = 0\n",
    "current = (0, nums[0])\n",
    "for i, v in enumerate(nums):\n",
    "    if v > current[1]: current = (i,v)\n",
    "        \n",
    "print(nums[current[0]])"
   ]
  },
  {
   "cell_type": "code",
   "execution_count": null,
   "metadata": {},
   "outputs": [],
   "source": []
  },
  {
   "cell_type": "code",
   "execution_count": null,
   "metadata": {},
   "outputs": [],
   "source": []
  },
  {
   "cell_type": "code",
   "execution_count": null,
   "metadata": {},
   "outputs": [],
   "source": []
  },
  {
   "cell_type": "code",
   "execution_count": null,
   "metadata": {},
   "outputs": [],
   "source": []
  }
 ],
 "metadata": {
  "kernelspec": {
   "display_name": "Python 3",
   "language": "python",
   "name": "python3"
  },
  "language_info": {
   "codemirror_mode": {
    "name": "ipython",
    "version": 3
   },
   "file_extension": ".py",
   "mimetype": "text/x-python",
   "name": "python",
   "nbconvert_exporter": "python",
   "pygments_lexer": "ipython3",
   "version": "3.6.3"
  }
 },
 "nbformat": 4,
 "nbformat_minor": 2
}
