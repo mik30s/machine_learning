{
 "cells": [
  {
   "cell_type": "markdown",
   "metadata": {},
   "source": [
    "#### Question 7"
   ]
  },
  {
   "cell_type": "code",
   "execution_count": 21,
   "metadata": {},
   "outputs": [
    {
     "name": "stdout",
     "output_type": "stream",
     "text": [
      "-2132 12344\n"
     ]
    }
   ],
   "source": [
    "def min(l):\n",
    "    if len(l) = 0: return l\n",
    "    s = l[0]\n",
    "    for i in range(1,len(l)):\n",
    "        if not s < l[i]:\n",
    "            s = l[i]\n",
    "    return s\n",
    "\n",
    "def max(l):\n",
    "    if len(l) = 0: return l\n",
    "    s = l[0]\n",
    "    for i in range(1,len(l)):\n",
    "        if not s > l[i]:\n",
    "            s = l[i]\n",
    "    return s\n",
    "\n",
    "l = [213,12344,-2132,89,213,121,54,776]\n",
    "print(min(l), max(l))"
   ]
  },
  {
   "cell_type": "markdown",
   "metadata": {},
   "source": [
    "#### Question 8"
   ]
  },
  {
   "cell_type": "code",
   "execution_count": 24,
   "metadata": {},
   "outputs": [
    {
     "name": "stdout",
     "output_type": "stream",
     "text": [
      "[1, 3, 6]\n"
     ]
    }
   ],
   "source": [
    "def cumulative_sum(l):\n",
    "    s = []\n",
    "    for i in range(1,len(l)):\n",
    "        s.append(sum(l[:i]))\n",
    "    return s\n",
    "\n",
    "print(cumulative_sum([1,2,3,4]))"
   ]
  },
  {
   "cell_type": "code",
   "execution_count": null,
   "metadata": {},
   "outputs": [],
   "source": []
  }
 ],
 "metadata": {
  "kernelspec": {
   "display_name": "Python 3",
   "language": "python",
   "name": "python3"
  },
  "language_info": {
   "codemirror_mode": {
    "name": "ipython",
    "version": 3
   },
   "file_extension": ".py",
   "mimetype": "text/x-python",
   "name": "python",
   "nbconvert_exporter": "python",
   "pygments_lexer": "ipython3",
   "version": "3.6.3"
  }
 },
 "nbformat": 4,
 "nbformat_minor": 2
}
