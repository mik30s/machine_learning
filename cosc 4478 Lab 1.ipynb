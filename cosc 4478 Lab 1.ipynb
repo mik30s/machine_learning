{
 "cells": [
  {
   "cell_type": "markdown",
   "metadata": {},
   "source": [
    "## Name: Michael Osei\n",
    "***"
   ]
  },
  {
   "cell_type": "markdown",
   "metadata": {},
   "source": [
    "### Question 5"
   ]
  },
  {
   "cell_type": "code",
   "execution_count": 15,
   "metadata": {},
   "outputs": [
    {
     "name": "stdout",
     "output_type": "stream",
     "text": [
      "0.00033412256585375113\n",
      "0.0\n",
      "3.3445702287662774e-07\n",
      "3.3479181469131905e-10\n",
      "0.0107119989029\n"
     ]
    }
   ],
   "source": [
    "from scipy.special import comb\n",
    "# a) no bit is in error\n",
    "ber = 0.001\n",
    "N = 8000\n",
    "print((1 - ber)**N)\n",
    "# b) all bits are in error\n",
    "print(ber**N)\n",
    "# c) all bits are in error\n",
    "print(ber*(1-ber)**(N-1))\n",
    "# d) exactly two consecutive bits are in error\n",
    "print(ber*ber*(1-ber)**(N-2))\n",
    "# d) exactly two bits are in error (in any pos)\n",
    "print((ber**2)*comb(N,2, exact=False)*(1-ber)**(N-2))"
   ]
  },
  {
   "cell_type": "markdown",
   "metadata": {},
   "source": [
    "### Question 4 - problem 12"
   ]
  },
  {
   "cell_type": "code",
   "execution_count": 19,
   "metadata": {},
   "outputs": [
    {
     "name": "stdout",
     "output_type": "stream",
     "text": [
      "1\n",
      "5\n"
     ]
    }
   ],
   "source": [
    "count_digits = lambda x: len(str(x))\n",
    "print(count_digits(5))\n",
    "print(count_digits(12344))"
   ]
  },
  {
   "cell_type": "markdown",
   "metadata": {},
   "source": [
    "### Question 4 - problem 13"
   ]
  },
  {
   "cell_type": "code",
   "execution_count": 26,
   "metadata": {},
   "outputs": [
    {
     "name": "stdout",
     "output_type": "stream",
     "text": [
      "True\n",
      "False\n"
     ]
    }
   ],
   "source": [
    "def istrcmp(a,b): return a.lower() == b.lower()\n",
    "print(istrcmp(\"raceCar\",\"racecar\"))\n",
    "print(istrcmp(\"Einstein\",\"Tesla\"))"
   ]
  }
 ],
 "metadata": {
  "kernelspec": {
   "display_name": "Python 3",
   "language": "python",
   "name": "python3"
  },
  "language_info": {
   "codemirror_mode": {
    "name": "ipython",
    "version": 3
   },
   "file_extension": ".py",
   "mimetype": "text/x-python",
   "name": "python",
   "nbconvert_exporter": "python",
   "pygments_lexer": "ipython3",
   "version": "3.6.3"
  }
 },
 "nbformat": 4,
 "nbformat_minor": 2
}
