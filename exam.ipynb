{
 "cells": [
  {
   "cell_type": "code",
   "execution_count": 1,
   "metadata": {},
   "outputs": [],
   "source": [
    "from sklearn.model_selection import train_test_split"
   ]
  },
  {
   "cell_type": "code",
   "execution_count": 12,
   "metadata": {},
   "outputs": [
    {
     "name": "stdout",
     "output_type": "stream",
     "text": [
      "0.8606709135031436\n"
     ]
    }
   ],
   "source": [
    "from math import log2\n",
    "def entropy(n, m):\n",
    "    if n==0 or m==0:\n",
    "        return 0\n",
    "    p = float(n)/(n+m)\n",
    "    q = float(m)/(n+m)\n",
    "    return -p*log2(p) - q*log2(q)\n",
    "\n",
    "l1 = (6.0/13)*entropy(4, 2)+(7.0/13)*entropy(5, 2)\n",
    "l2 = (6.0/13)*entropy(4, 1)+(7.0/13)*entropy(4, 5)\n",
    "l3 = (6.0/13)*entropy(3, 5)+(7.0/13)*entropy(4, 1)\n",
    "l4 = (6.0/13)*entropy(6, 3)+(7.0/13)*entropy(3, 1)\n",
    "print(l4)"
   ]
  },
  {
   "cell_type": "markdown",
   "metadata": {},
   "source": [
    "### Question 3"
   ]
  },
  {
   "cell_type": "code",
   "execution_count": 109,
   "metadata": {},
   "outputs": [
    {
     "name": "stdout",
     "output_type": "stream",
     "text": [
      "mean smooth\n",
      "\tmean of mean smoothness: 0.0964\n",
      "\ts. deviation of mean smoothness: 0.0141\n",
      "\tvariance of mean smoothness: 0.000197\n",
      "mean compact.\n",
      "\tmean of mean smoothness: 0.104\n",
      "\ts. deviation of mean smoothness: 0.0528\n",
      "\tvariance of mean smoothness: 0.00278\n",
      "radius error\n",
      "\tmean of mean smoothness: 14.1\n",
      "\ts. deviation of mean smoothness: 3.52\n",
      "\tvariance of mean smoothness: 12.4\n",
      "area error\n",
      "\tmean of mean smoothness: 40.3\n",
      "\ts. deviation of mean smoothness: 45.5\n",
      "\tvariance of mean smoothness: 2.07e+03\n"
     ]
    }
   ],
   "source": [
    "import numpy as np\n",
    "from sklearn.datasets import load_breast_cancer\n",
    "cancer = load_breast_cancer()\n",
    "\n",
    "ms_pos = 0\n",
    "mc_pos = 0\n",
    "re_pos = 0\n",
    "ae_pos = 0\n",
    "for i,n in enumerate( cancer.feature_names):\n",
    "    if n == 'mean smoothness':ms_pos = i\n",
    "    elif n == 'mean compactness':mc_pos = i\n",
    "    elif n == 'radius error':r_pos = i\n",
    "    elif n == 'area error':ae_pos = i    \n",
    "\n",
    "cols = {'mean smooth':cancer.data[:,ms_pos],\n",
    "        'mean compact.':cancer.data[:,mc_pos ], \n",
    "        'radius error':cancer.data[:,re_pos], \n",
    "        'area error':cancer.data[:,ae_pos]}\n",
    "for d in cols.keys():\n",
    "    print(d)\n",
    "    print(\"\\tmean of mean smoothness: {:.3}\".format(cols[d].mean()))\n",
    "    print(\"\\ts. deviation of mean smoothness: {:.3}\".format(cols[d].std()))\n",
    "    print(\"\\tvariance of mean smoothness: {:.3}\".format(cols[d].var()))\n",
    "\n",
    "# slice columns\n",
    "cancer4 = np.transpose(np.vstack((cancer.data[:,ms_pos], cancer.data[:,mc_pos], \n",
    "               cancer.data[:,re_pos], cancer.data[:,ae_pos])))"
   ]
  },
  {
   "cell_type": "markdown",
   "metadata": {},
   "source": [
    "### Question 4"
   ]
  },
  {
   "cell_type": "code",
   "execution_count": 105,
   "metadata": {},
   "outputs": [
    {
     "data": {
      "image/png": "[encoded data removed]",
      "text/plain": [
       "<matplotlib.figure.Figure at 0x7f14b3cb85c0>"
      ]
     },
     "metadata": {},
     "output_type": "display_data"
    }
   ],
   "source": [
    "import matplotlib.pyplot as plt\n",
    "Xtrain, Xtest, Ytrain, Ytest =\\\n",
    "train_test_split(cancer4, cancer.target, random_state=42, train_size=0.7, test_size=0.3)\n",
    "from sklearn.neighbors import KNeighborsClassifier as KNN\n",
    "scores = []\n",
    "for i  in range(1, 14):\n",
    "    clf = KNN(n_neighbors = i )\n",
    "    clf.fit(Xtrain, Ytrain)\n",
    "    #print(\"# Neighbors:\", i)\n",
    "    #print(\"\\tTrain Score: {:.4f}%\".format(clf.score(Xtrain, Ytrain)*100))\n",
    "    scores.append(clf.score(Xtest, Ytest)*100)\n",
    "    #print(\"\\tTest Score: {:.4f}%\".format())\n",
    "plt.plot(range(1,14), scores )\n",
    "plt.show()\n"
   ]
  },
  {
   "cell_type": "markdown",
   "metadata": {},
   "source": [
    "### Question 5"
   ]
  },
  {
   "cell_type": "code",
   "execution_count": 95,
   "metadata": {},
   "outputs": [
    {
     "name": "stdout",
     "output_type": "stream",
     "text": [
      "Training score: 0.9033\n",
      "Training score: 0.9298\n",
      "Training score: 0.6286\n",
      "Training score: 0.6228\n",
      "Training score: 1.0000\n",
      "Training score: 0.6228\n"
     ]
    }
   ],
   "source": [
    "from sklearn.svm import SVC\n",
    "Xtrain, Xtest, Ytrain, Ytest =\\\n",
    "train_test_split(cancer4, cancer.target, random_state=42, train_size=0.8, test_size=0.2)\n",
    "\n",
    "clf = SVC(kernel='rbf')\n",
    "clf.fit(Xtrain, Ytrain)\n",
    "print(\"Training score: {:.4f}\".format(clf.score(Xtrain, Ytrain)))\n",
    "print(\"Training score: {:.4f}\".format(clf.score(Xtest, Ytest)))\n",
    "\n",
    "# two other regularization and gamma levels\n",
    "# 1\n",
    "clf = SVC(kernel='rbf', C=0.1, gamma=1000)\n",
    "clf.fit(Xtrain, Ytrain)\n",
    "print(\"Training score: {:.4f}\".format(clf.score(Xtrain, Ytrain)))\n",
    "print(\"Training score: {:.4f}\".format(clf.score(Xtest, Ytest)))\n",
    "\n",
    "# two other regularization and gamma levels\n",
    "# 2\n",
    "clf = SVC(kernel='rbf', C=10, gamma=10000)\n",
    "clf.fit(Xtrain, Ytrain)\n",
    "print(\"Training score: {:.4f}\".format(clf.score(Xtrain, Ytrain)))\n",
    "print(\"Training score: {:.4f}\".format(clf.score(Xtest, Ytest)))\n"
   ]
  },
  {
   "cell_type": "markdown",
   "metadata": {},
   "source": [
    "### Question 6"
   ]
  },
  {
   "cell_type": "code",
   "execution_count": 99,
   "metadata": {},
   "outputs": [
    {
     "data": {
      "image/png": "[encoded data removed]",
      "text/plain": [
       "<matplotlib.figure.Figure at 0x7f14b3e26a20>"
      ]
     },
     "metadata": {},
     "output_type": "display_data"
    },
    {
     "name": "stdout",
     "output_type": "stream",
     "text": [
      "Principal components: \n",
      " [[ 0.36158968 -0.08226889  0.85657211  0.35884393]\n",
      " [ 0.65653988  0.72971237 -0.1757674  -0.07470647]]\n"
     ]
    }
   ],
   "source": [
    "import mglearn\n",
    "import matplotlib.pyplot as plt\n",
    "from matplotlib.colors import ListedColormap\n",
    "from sklearn.decomposition import PCA\n",
    "from sklearn.datasets import load_iris\n",
    "iris = load_iris()\n",
    "pca = PCA(n_components=2)\n",
    "iris_pca = pca.fit(iris.data).transform(iris.data)\n",
    "purple = ListedColormap([\"#ff0000\",\"#0000ff\" ])\n",
    "mglearn.discrete_scatter(iris_pca[:,0], iris_pca[:,1], iris.target, \n",
    "                         c=['#ff00ff', '#00ffff', '#ffff00'])\n",
    "plt.show()\n",
    "print(\"Principal components: \\n\", pca.components_)"
   ]
  }
 ],
 "metadata": {
  "kernelspec": {
   "display_name": "Python 3",
   "language": "python",
   "name": "python3"
  },
  "language_info": {
   "codemirror_mode": {
    "name": "ipython",
    "version": 3
   },
   "file_extension": ".py",
   "mimetype": "text/x-python",
   "name": "python",
   "nbconvert_exporter": "python",
   "pygments_lexer": "ipython3",
   "version": "3.6.3"
  }
 },
 "nbformat": 4,
 "nbformat_minor": 2
}
