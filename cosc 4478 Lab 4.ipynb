{
 "cells": [
  {
   "cell_type": "markdown",
   "metadata": {},
   "source": [
    "## Name: Michael Osei\n",
    "***"
   ]
  },
  {
   "cell_type": "markdown",
   "metadata": {},
   "source": [
    "### Question 0"
   ]
  },
  {
   "cell_type": "code",
   "execution_count": 11,
   "metadata": {},
   "outputs": [
    {
     "name": "stdout",
     "output_type": "stream",
     "text": [
      "Probability is 0.02642\n"
     ]
    }
   ],
   "source": [
    "from scipy.misc import comb\n",
    "\n",
    "print(\"Probability is {:2.5f}\".format(comb(10,5, exact=True) * 0.2**5 * (1- 0.2)**5))"
   ]
  },
  {
   "cell_type": "markdown",
   "metadata": {},
   "source": [
    "### Question 1"
   ]
  },
  {
   "cell_type": "code",
   "execution_count": 12,
   "metadata": {},
   "outputs": [
    {
     "name": "stdout",
     "output_type": "stream",
     "text": [
      "Probablity is 0.89263\n"
     ]
    }
   ],
   "source": [
    "p = sum([comb(10,k, exact=True) * 0.2 ** k * 0.8**(10 - k)  for k in range(1,11)])\n",
    "print(\"Probablity is {:2.5f}\".format(p))"
   ]
  },
  {
   "cell_type": "markdown",
   "metadata": {},
   "source": [
    "### Question 2"
   ]
  },
  {
   "cell_type": "code",
   "execution_count": 26,
   "metadata": {},
   "outputs": [
    {
     "name": "stdout",
     "output_type": "stream",
     "text": [
      "Error is 2.8625195318948853\n"
     ]
    }
   ],
   "source": [
    "from math import atan, degrees \n",
    "\n",
    "def laser_error(d, r_det, r_beam):\n",
    "    return degrees(atan(r_det + r_beam / d))\n",
    "\n",
    "print(\"Error is {}\".format(laser_error(500, 0.05, 0.001)))"
   ]
  },
  {
   "cell_type": "markdown",
   "metadata": {},
   "source": [
    "### Question 3"
   ]
  },
  {
   "cell_type": "code",
   "execution_count": 31,
   "metadata": {},
   "outputs": [
    {
     "name": "stdout",
     "output_type": "stream",
     "text": [
      "h = 10m, d = 25.30km\n",
      "h = 30m, d = 43.82km\n",
      "h = 50m, d = 56.57km\n",
      "h = 70m, d = 66.93km\n",
      "h = 90m, d = 75.89km\n",
      "h = 110m, d = 83.90km\n",
      "h = 130m, d = 91.21km\n",
      "h = 150m, d = 97.98km\n"
     ]
    }
   ],
   "source": [
    "from math import sqrt\n",
    "\n",
    "for h in range(10, 151, 20):\n",
    "    print(\"h = {}m, d = {:2.2f}km\".format(h, 8*sqrt(h)))"
   ]
  },
  {
   "cell_type": "markdown",
   "metadata": {},
   "source": [
    "### Question 4"
   ]
  },
  {
   "cell_type": "code",
   "execution_count": 51,
   "metadata": {},
   "outputs": [
    {
     "name": "stdout",
     "output_type": "stream",
     "text": [
      "For 10m, price is $6756791.56\n",
      "For 11m, price is $6588780.08\n",
      "For 12m, price is $6486684.28\n",
      "For 13m, price is $6378669.08\n",
      "For 14m, price is $6302633.42\n",
      "For 15m, price is $6220672.78\n",
      "For 16m, price is $6172880.00\n",
      "For 17m, price is $6161618.96\n",
      "For 18m, price is $6146494.71\n",
      "For 19m, price is $6127014.86\n",
      "For 20m, price is $6147915.67\n",
      "For 21m, price is $6119492.97\n",
      "For 22m, price is $6132937.99\n",
      "For 23m, price is $6191466.06\n",
      "For 24m, price is $6198491.70\n",
      "For 25m, price is $6201250.00\n",
      "For 26m, price is $6251982.28\n",
      "For 27m, price is $6300489.74\n",
      "For 28m, price is $6346568.54\n",
      "For 29m, price is $6390021.46\n"
     ]
    }
   ],
   "source": [
    "from math import ceil\n",
    "\n",
    "def tower_cost(h):\n",
    "    return (ceil(4800.0/(8 * sqrt(h))) + 1) * (30000 + 170 * h * sqrt(h))\n",
    "    \n",
    "for h in range(10, 30, 1):\n",
    "    print(\"For {}m, price is ${:.2f}\".format(h, tower_cost(h)))"
   ]
  },
  {
   "cell_type": "markdown",
   "metadata": {},
   "source": [
    "### Question 5"
   ]
  },
  {
   "cell_type": "code",
   "execution_count": 59,
   "metadata": {},
   "outputs": [
    {
     "name": "stdout",
     "output_type": "stream",
     "text": [
      "31.63858403911274 floor(31)\n"
     ]
    }
   ],
   "source": [
    "from math import floor, log\n",
    "\n",
    "sh_lim = 4000*log(1001, 2)\n",
    "V = 2**(sh_lim / (2*4000))\n",
    "print(\"{} floor({})\".format(V, floor(V)))"
   ]
  },
  {
   "cell_type": "markdown",
   "metadata": {},
   "source": [
    "### Question 6"
   ]
  },
  {
   "cell_type": "code",
   "execution_count": 70,
   "metadata": {},
   "outputs": [
    {
     "name": "stdout",
     "output_type": "stream",
     "text": [
      "7.97Gbs\n"
     ]
    }
   ],
   "source": [
    "print(\"{:0.2f}Gbs\".format(floor(600000000 * log(10001,2))/10**9))"
   ]
  }
 ],
 "metadata": {
  "kernelspec": {
   "display_name": "Python 3",
   "language": "python",
   "name": "python3"
  },
  "language_info": {
   "codemirror_mode": {
    "name": "ipython",
    "version": 3
   },
   "file_extension": ".py",
   "mimetype": "text/x-python",
   "name": "python",
   "nbconvert_exporter": "python",
   "pygments_lexer": "ipython3",
   "version": "3.6.3"
  }
 },
 "nbformat": 4,
 "nbformat_minor": 2
}
