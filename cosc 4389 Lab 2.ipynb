{
 "cells": [
  {
   "cell_type": "markdown",
   "metadata": {},
   "source": [
    "#### Name: Michael Osei\n",
    "*** "
   ]
  },
  {
   "cell_type": "markdown",
   "metadata": {},
   "source": [
    "#### Question 0"
   ]
  },
  {
   "cell_type": "code",
   "execution_count": 149,
   "metadata": {},
   "outputs": [
    {
     "name": "stdout",
     "output_type": "stream",
     "text": [
      "[('mglearn', '0.1.6'), ('matplotlib', '2.1.0'), ('scipy', '0.19.1'), ('pandas', '0.20.3'), ('sklearn', '0.19.1'), ('numpy', '1.13.3')]\n"
     ]
    }
   ],
   "source": [
    "import mglearn as mg,\\\n",
    "       matplotlib as m,\\\n",
    "       scipy as sc,\\\n",
    "       pandas as pd,\\\n",
    "       sklearn as sk,\\\n",
    "       numpy as np\n",
    "print([(m.__name__, m.__version__) for m in [mg, m, sc, pd, sk, np]])"
   ]
  },
  {
   "cell_type": "markdown",
   "metadata": {},
   "source": [
    "#### Question 1"
   ]
  },
  {
   "cell_type": "code",
   "execution_count": 166,
   "metadata": {},
   "outputs": [
    {
     "name": "stdout",
     "output_type": "stream",
     "text": [
      "_________________________________________________\n",
      "| N |         N!         |        tan(N)        |\n",
      "_________________________________________________\n",
      "|  1|                   1|0.017455064928217585  |\n",
      "|  2|                   2|0.03492076949174773   |\n",
      "|  3|                   6|0.05240777928304121   |\n",
      "|  4|                  24|0.06992681194351041   |\n",
      "|  5|                 120|0.08748866352592401   |\n",
      "|  6|                 720|0.10510423526567647   |\n",
      "|  7|                5040|0.1227845609029046    |\n",
      "|  8|               40320|0.14054083470239145   |\n",
      "|  9|              362880|0.15838444032453627   |\n",
      "| 10|             3628800|0.17632698070846498   |\n",
      "| 11|            39916800|0.19438030913771848   |\n",
      "| 12|           479001600|0.21255656167002213   |\n",
      "| 13|          6227020800|0.23086819112556312   |\n",
      "| 14|         87178291200|0.24932800284318068   |\n",
      "| 15|       1307674368000|0.2679491924311227    |\n",
      "| 16|      20922789888000|0.2867453857588079    |\n",
      "| 17|     355687428096000|0.3057306814586604    |\n",
      "| 18|    6402373705728000|0.3249196962329063    |\n",
      "| 19|  121645100408832000|0.34432761328966527   |\n",
      "| 20| 2432902008176640000|0.36397023426620234   |\n",
      "_________________________________________________\n"
     ]
    }
   ],
   "source": [
    "import math\n",
    "\n",
    "\n",
    "print(\"_\"*49)\n",
    "print(\"|{:^3}|{:^20}|{:^22}|\".format(\"N\", \"N!\", \"tan(N)\"))\n",
    "print(\"_\"*49)\n",
    "for i in range(1, 21):\n",
    "    print(\"|{:>3}|{:>20}|{:<22}|\".format(i,math.factorial(i),math.tan(math.radians(i))))\n",
    "print(\"_\"*49)\n"
   ]
  },
  {
   "cell_type": "markdown",
   "metadata": {},
   "source": [
    "#### Question 2"
   ]
  },
  {
   "cell_type": "code",
   "execution_count": 114,
   "metadata": {},
   "outputs": [
    {
     "name": "stdout",
     "output_type": "stream",
     "text": [
      "Even avg 11.0, Odd avg 10.0 \n",
      "Even min 2, Odd min 1 \n",
      "Even min 20, Odd min 19 \n"
     ]
    }
   ],
   "source": [
    "ds1 = pd.Series(range(2, 21, 2))\n",
    "ds2 = pd.Series([1] + list(map(lambda x: x+1, ds1))[:-1])\n",
    "print(\"Even avg {}, Odd avg {} \".format(ds1.mean(), ds2.mean()))\n",
    "print(\"Even min {}, Odd min {} \".format(ds1.min(), ds2.min()))\n",
    "print(\"Even min {}, Odd min {} \".format(ds1.max(), ds2.max()))"
   ]
  },
  {
   "cell_type": "markdown",
   "metadata": {},
   "source": [
    "#### Question 3"
   ]
  },
  {
   "cell_type": "code",
   "execution_count": 115,
   "metadata": {},
   "outputs": [
    {
     "name": "stdout",
     "output_type": "stream",
     "text": [
      "[3, 7, 11, 15, 19, 23, 27, 31, 35, 39]\n",
      "[1, 1, 1, 1, 1, 1, 1, 1, 1, 1]\n",
      "[2, 12, 30, 56, 90, 132, 182, 240, 306, 380]\n",
      "[2.0, 1.3333333333333333, 1.2, 1.1428571428571428, 1.1111111111111112, 1.0909090909090908, 1.0769230769230769, 1.0666666666666667, 1.0588235294117647, 1.0526315789473684]\n",
      "[2, 64, 7776, 2097152, 1000000000, 743008370688, 793714773254144, 1152921504606846976, 9195759040969441280, 1739602492368355328]\n"
     ]
    }
   ],
   "source": [
    "print(list(ds1 + ds2))\n",
    "print(list(ds1 - ds2))\n",
    "print(list(ds1 * ds2))\n",
    "print(list(ds1 / ds2))\n",
    "print(list(ds1 ** ds2))"
   ]
  },
  {
   "cell_type": "markdown",
   "metadata": {},
   "source": [
    "#### Question 4"
   ]
  },
  {
   "cell_type": "code",
   "execution_count": 117,
   "metadata": {},
   "outputs": [
    {
     "name": "stdout",
     "output_type": "stream",
     "text": [
      "   s1  s2\n",
      "0   2   1\n",
      "1   4   3\n",
      "2   6   5\n",
      "3   8   7\n",
      "4  10   9\n",
      "5  12  11\n",
      "6  14  13\n",
      "7  16  15\n",
      "8  18  17\n",
      "9  20  19\n"
     ]
    }
   ],
   "source": [
    "df = pd.DataFrame({'s1':ds1, 's2':ds2})\n",
    "print(df)"
   ]
  },
  {
   "cell_type": "markdown",
   "metadata": {},
   "source": [
    "#### Question 5"
   ]
  },
  {
   "cell_type": "code",
   "execution_count": 120,
   "metadata": {},
   "outputs": [
    {
     "name": "stdout",
     "output_type": "stream",
     "text": [
      "0     1\n",
      "1     3\n",
      "2     5\n",
      "3     7\n",
      "4     9\n",
      "5    11\n",
      "6    13\n",
      "7    15\n",
      "8    17\n",
      "9    19\n",
      "dtype: int64\n"
     ]
    }
   ],
   "source": [
    "indx = list(ds1.index)\n",
    "indx[0] = 42\n",
    "ds1.index = indx\n",
    "print(ds2)"
   ]
  },
  {
   "cell_type": "markdown",
   "metadata": {},
   "source": [
    "#### Question 6"
   ]
  },
  {
   "cell_type": "code",
   "execution_count": 123,
   "metadata": {},
   "outputs": [
    {
     "name": "stdout",
     "output_type": "stream",
     "text": [
      "     s1  s2\n",
      "0   NaN   1\n",
      "1   4.0   3\n",
      "2   6.0   5\n",
      "3   8.0   7\n",
      "4  10.0   9\n",
      "5  12.0  11\n",
      "6  14.0  13\n",
      "7  16.0  15\n",
      "8  18.0  17\n",
      "9  20.0  19\n"
     ]
    }
   ],
   "source": [
    "df = pd.DataFrame({'s1':ds1, 's2':ds2}, index=ds2.index)\n",
    "print(df)"
   ]
  },
  {
   "cell_type": "markdown",
   "metadata": {},
   "source": [
    "#### Question 7"
   ]
  },
  {
   "cell_type": "code",
   "execution_count": 169,
   "metadata": {},
   "outputs": [
    {
     "name": "stdout",
     "output_type": "stream",
     "text": [
      "Class of [ 6.1  2.8  4.7  1.2] is versicolor\n",
      "Class of [ 5.7  3.8  1.7  0.3] is setosa\n",
      "Class of [ 7.7  2.6  6.9  2.3] is virginica\n",
      "Class of [ 6.   2.9  4.5  1.5] is versicolor\n",
      "Class of [ 6.8  2.8  4.8  1.4] is versicolor\n",
      "Class of [ 5.4  3.4  1.5  0.4] is setosa\n",
      "Class of [ 5.6  2.9  3.6  1.3] is versicolor\n",
      "Class of [ 6.9  3.1  5.1  2.3] is virginica\n",
      "Class of [ 6.2  2.2  4.5  1.5] is virginica\n",
      "Class of [ 5.8  2.7  3.9  1.2] is versicolor\n",
      "Model score: 93.33%\n"
     ]
    }
   ],
   "source": [
    "from sklearn.datasets import load_iris\n",
    "iris_dataset = load_iris()\n",
    "\n",
    "from sklearn.model_selection import train_test_split\n",
    "X_train, X_test, y_train, y_test = train_test_split(\\\n",
    "            iris_dataset.data, iris_dataset.target, \n",
    "            random_state=42, train_size=0.9, test_size=0.1)\n",
    "\n",
    "from sklearn.neighbors import KNeighborsClassifier\n",
    "knn = KNeighborsClassifier(n_neighbors=7)\n",
    "knn.fit(X_train, y_train)\n",
    "\n",
    "y_preds = knn.predict(X_test[:10])\n",
    "for i,p in enumerate(y_preds):\n",
    "    print(\"Class of {} is {}\".format(X_test[i], iris_dataset.target_names[y_preds[i]]))\n",
    "print('Model score: {:5.2f}%'.format(knn.score(X_test, y_test)*100))"
   ]
  }
 ],
 "metadata": {
  "kernelspec": {
   "display_name": "Python 3",
   "language": "python",
   "name": "python3"
  },
  "language_info": {
   "codemirror_mode": {
    "name": "ipython",
    "version": 3
   },
   "file_extension": ".py",
   "mimetype": "text/x-python",
   "name": "python",
   "nbconvert_exporter": "python",
   "pygments_lexer": "ipython3",
   "version": "3.6.3"
  }
 },
 "nbformat": 4,
 "nbformat_minor": 2
}
