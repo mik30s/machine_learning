{
 "cells": [
  {
   "cell_type": "markdown",
   "metadata": {},
   "source": [
    "## Name: Michael Osei\n",
    "***"
   ]
  },
  {
   "cell_type": "code",
   "execution_count": 22,
   "metadata": {},
   "outputs": [
    {
     "data": {
      "image/png": "[encoded data removed]",
      "text/plain": [
       "<matplotlib.figure.Figure at 0x7f4821b25940>"
      ]
     },
     "metadata": {},
     "output_type": "display_data"
    }
   ],
   "source": [
    "from matplotlib import pyplot as plt\n",
    "%matplotlib inline\n",
    "\n",
    "def uwb(f):\n",
    "    return 0.2*f if 0.2*f<500 else 500\n",
    "\n",
    "x = range(100, 3001, 25)\n",
    "y = list(map(lambda i: 0.2*i if 0.2 * i < 500 else 500, x))\n",
    "\n",
    "plt.ylim(0, 550)\n",
    "plt.plot(x, y)\n",
    "\n",
    "with open('she.txt', 'r') as f:\n",
    "    content = f.read().split('\\n')\n"
   ]
  },
  {
   "cell_type": "markdown",
   "metadata": {},
   "source": [
    "### Question 17"
   ]
  },
  {
   "cell_type": "code",
   "execution_count": 11,
   "metadata": {},
   "outputs": [
    {
     "name": "stdout",
     "output_type": "stream",
     "text": [
      "I'm sure that the shells are seashore shells\n",
      "So if she sells seashells on the seashore\n",
      "The shells the she sells are seashells I'm sure\n",
      "She sells seashells on the seashore\n"
     ]
    }
   ],
   "source": [
    "reversed_content = content[::-1]\n",
    "for line in reversed_content:\n",
    "    print(line)"
   ]
  },
  {
   "cell_type": "markdown",
   "metadata": {},
   "source": [
    "### Question 18"
   ]
  },
  {
   "cell_type": "code",
   "execution_count": 20,
   "metadata": {},
   "outputs": [
    {
     "name": "stdout",
     "output_type": "stream",
     "text": [
      "erohsaes eht no sllehsaes slles ehS\n",
      "erus m'I sllehsaes era slles ehs eht sllehs ehT\n",
      "erohsaes eht no sllehsaes slles ehs fi oS\n",
      "sllehs erohsaes era sllehs eht taht erus m'I\n",
      "She sells seashells on the seashore\n",
      "The shells the she sells are seashells I'm sure\n",
      "So if she sells seashells on the seashore\n",
      "I'm sure that the shells are seashore shells\n",
      "She sells seashells on the seashore\n",
      "The shells the she sells are seashells I'm sure\n",
      "So if she sells seashells on the seashore\n",
      "I'm sure that the shells are seashore shells\n",
      "So if she sells seashells on the seashore\n",
      "\n"
     ]
    }
   ],
   "source": [
    "for line in content:\n",
    "    print(line[::-1])\n",
    "\n",
    "def head(file_name):\n",
    "    with open(file_name, 'r') as f:\n",
    "        h = f.read().split('\\n')[:10]\n",
    "    for line in h: print(line)\n",
    "\n",
    "def tail(file_name):\n",
    "    with open(file_name, 'r') as f:\n",
    "        t = f.read().split('\\n')[-10:]\n",
    "    for line in t: print(line)\n",
    "\n",
    "head('she.txt')\n",
    "tail('she.txt')\n",
    "\n",
    "def grep(file_name, st):\n",
    "    with open(file_name, 'r') as f:\n",
    "        lns = f.read().split('\\n')\n",
    "    output = [lns[i]+'\\n' if st in lns[i] else [] for i in range(len(lns))]\n",
    "    for el in output: if el: print(el)\n",
    "\n",
    "grep('she.txt', 'if')"
   ]
  },
  {
   "cell_type": "code",
   "execution_count": null,
   "metadata": {},
   "outputs": [],
   "source": []
  }
 ],
 "metadata": {
  "kernelspec": {
   "display_name": "Python 3",
   "language": "python",
   "name": "python3"
  },
  "language_info": {
   "codemirror_mode": {
    "name": "ipython",
    "version": 3
   },
   "file_extension": ".py",
   "mimetype": "text/x-python",
   "name": "python",
   "nbconvert_exporter": "python",
   "pygments_lexer": "ipython3",
   "version": "3.6.3"
  }
 },
 "nbformat": 4,
 "nbformat_minor": 2
}
